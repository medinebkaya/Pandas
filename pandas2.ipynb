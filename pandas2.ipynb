{
 "cells": [
  {
   "cell_type": "code",
   "execution_count": 1,
   "id": "d51406c6",
   "metadata": {
    "_cell_guid": "b1076dfc-b9ad-4769-8c92-a6c4dae69d19",
    "_uuid": "8f2839f25d086af736a60e9eeb907d3b93b6e0e5",
    "execution": {
     "iopub.execute_input": "2024-09-07T15:18:25.998890Z",
     "iopub.status.busy": "2024-09-07T15:18:25.998312Z",
     "iopub.status.idle": "2024-09-07T15:18:26.552340Z",
     "shell.execute_reply": "2024-09-07T15:18:26.550661Z"
    },
    "papermill": {
     "duration": 0.571634,
     "end_time": "2024-09-07T15:18:26.555628",
     "exception": false,
     "start_time": "2024-09-07T15:18:25.983994",
     "status": "completed"
    },
    "tags": []
   },
   "outputs": [
    {
     "name": "stdout",
     "output_type": "stream",
     "text": [
      "/kaggle/input/datacampdatasets/homelessness.csv\n",
      "/kaggle/input/datacampdatasets/hourly_wages.csv\n",
      "/kaggle/input/datacampdatasets/sales_subset.csv\n"
     ]
    }
   ],
   "source": [
    "import numpy as np # linear algebra\n",
    "import pandas as pd # data processing, CSV file I/O (e.g. pd.read_csv)\n",
    "import os\n",
    "for dirname, _, filenames in os.walk('/kaggle/input'):\n",
    "    for filename in filenames:\n",
    "        print(os.path.join(dirname, filename))"
   ]
  },
  {
   "cell_type": "code",
   "execution_count": 2,
   "id": "596aed86",
   "metadata": {
    "execution": {
     "iopub.execute_input": "2024-09-07T15:18:26.581974Z",
     "iopub.status.busy": "2024-09-07T15:18:26.580883Z",
     "iopub.status.idle": "2024-09-07T15:18:26.660405Z",
     "shell.execute_reply": "2024-09-07T15:18:26.659108Z"
    },
    "papermill": {
     "duration": 0.096077,
     "end_time": "2024-09-07T15:18:26.663713",
     "exception": false,
     "start_time": "2024-09-07T15:18:26.567636",
     "status": "completed"
    },
    "tags": []
   },
   "outputs": [],
   "source": [
    "sales=pd.read_csv(\"/kaggle/input/datacampdatasets/sales_subset.csv\", index_col=0)"
   ]
  },
  {
   "cell_type": "code",
   "execution_count": 3,
   "id": "cd9553d8",
   "metadata": {
    "execution": {
     "iopub.execute_input": "2024-09-07T15:18:26.689225Z",
     "iopub.status.busy": "2024-09-07T15:18:26.688661Z",
     "iopub.status.idle": "2024-09-07T15:18:26.705283Z",
     "shell.execute_reply": "2024-09-07T15:18:26.704029Z"
    },
    "papermill": {
     "duration": 0.032906,
     "end_time": "2024-09-07T15:18:26.708286",
     "exception": false,
     "start_time": "2024-09-07T15:18:26.675380",
     "status": "completed"
    },
    "tags": []
   },
   "outputs": [
    {
     "name": "stdout",
     "output_type": "stream",
     "text": [
      "   store type  department        date  weekly_sales  is_holiday  \\\n",
      "0      1    A           1  2010-02-05      24924.50       False   \n",
      "1      1    A           1  2010-03-05      21827.90       False   \n",
      "2      1    A           1  2010-04-02      57258.43       False   \n",
      "3      1    A           1  2010-05-07      17413.94       False   \n",
      "4      1    A           1  2010-06-04      17558.09       False   \n",
      "\n",
      "   temperature_c  fuel_price_usd_per_l  unemployment  \n",
      "0       5.727778              0.679451         8.106  \n",
      "1       8.055556              0.693452         8.106  \n",
      "2      16.816667              0.718284         7.808  \n",
      "3      22.527778              0.748928         7.808  \n",
      "4      27.050000              0.714586         7.808  \n"
     ]
    }
   ],
   "source": [
    "# Print the head of the sales DataFrame\n",
    "print(sales.head())"
   ]
  },
  {
   "cell_type": "code",
   "execution_count": 4,
   "id": "95d830ce",
   "metadata": {
    "execution": {
     "iopub.execute_input": "2024-09-07T15:18:26.733896Z",
     "iopub.status.busy": "2024-09-07T15:18:26.733384Z",
     "iopub.status.idle": "2024-09-07T15:18:26.758297Z",
     "shell.execute_reply": "2024-09-07T15:18:26.757181Z"
    },
    "papermill": {
     "duration": 0.041696,
     "end_time": "2024-09-07T15:18:26.761691",
     "exception": false,
     "start_time": "2024-09-07T15:18:26.719995",
     "status": "completed"
    },
    "tags": []
   },
   "outputs": [
    {
     "name": "stdout",
     "output_type": "stream",
     "text": [
      "<class 'pandas.core.frame.DataFrame'>\n",
      "Index: 10774 entries, 0 to 10773\n",
      "Data columns (total 9 columns):\n",
      " #   Column                Non-Null Count  Dtype  \n",
      "---  ------                --------------  -----  \n",
      " 0   store                 10774 non-null  int64  \n",
      " 1   type                  10774 non-null  object \n",
      " 2   department            10774 non-null  int64  \n",
      " 3   date                  10774 non-null  object \n",
      " 4   weekly_sales          10774 non-null  float64\n",
      " 5   is_holiday            10774 non-null  bool   \n",
      " 6   temperature_c         10774 non-null  float64\n",
      " 7   fuel_price_usd_per_l  10774 non-null  float64\n",
      " 8   unemployment          10774 non-null  float64\n",
      "dtypes: bool(1), float64(4), int64(2), object(2)\n",
      "memory usage: 768.1+ KB\n",
      "None\n"
     ]
    }
   ],
   "source": [
    "# Print the info about the sales DataFrame\n",
    "print(sales.info())"
   ]
  },
  {
   "cell_type": "code",
   "execution_count": 5,
   "id": "5f14a0eb",
   "metadata": {
    "execution": {
     "iopub.execute_input": "2024-09-07T15:18:26.788196Z",
     "iopub.status.busy": "2024-09-07T15:18:26.787001Z",
     "iopub.status.idle": "2024-09-07T15:18:26.794143Z",
     "shell.execute_reply": "2024-09-07T15:18:26.792940Z"
    },
    "papermill": {
     "duration": 0.024023,
     "end_time": "2024-09-07T15:18:26.797575",
     "exception": false,
     "start_time": "2024-09-07T15:18:26.773552",
     "status": "completed"
    },
    "tags": []
   },
   "outputs": [
    {
     "name": "stdout",
     "output_type": "stream",
     "text": [
      "23843.95014850566\n"
     ]
    }
   ],
   "source": [
    "# Print the mean of weekly_sales\n",
    "print(sales[\"weekly_sales\"].mean())"
   ]
  },
  {
   "cell_type": "code",
   "execution_count": 6,
   "id": "67d5ff51",
   "metadata": {
    "execution": {
     "iopub.execute_input": "2024-09-07T15:18:26.824050Z",
     "iopub.status.busy": "2024-09-07T15:18:26.823351Z",
     "iopub.status.idle": "2024-09-07T15:18:26.833898Z",
     "shell.execute_reply": "2024-09-07T15:18:26.832322Z"
    },
    "papermill": {
     "duration": 0.027131,
     "end_time": "2024-09-07T15:18:26.836685",
     "exception": false,
     "start_time": "2024-09-07T15:18:26.809554",
     "status": "completed"
    },
    "tags": []
   },
   "outputs": [
    {
     "name": "stdout",
     "output_type": "stream",
     "text": [
      "12049.064999999999\n"
     ]
    }
   ],
   "source": [
    "# Print the median of weekly_sales\n",
    "print(sales[\"weekly_sales\"].median())"
   ]
  },
  {
   "cell_type": "markdown",
   "id": "2857b45f",
   "metadata": {
    "papermill": {
     "duration": 0.011607,
     "end_time": "2024-09-07T15:18:26.860464",
     "exception": false,
     "start_time": "2024-09-07T15:18:26.848857",
     "status": "completed"
    },
    "tags": []
   },
   "source": [
    "# Summarizing dates"
   ]
  },
  {
   "cell_type": "code",
   "execution_count": 7,
   "id": "7569e6d4",
   "metadata": {
    "execution": {
     "iopub.execute_input": "2024-09-07T15:18:26.887014Z",
     "iopub.status.busy": "2024-09-07T15:18:26.886448Z",
     "iopub.status.idle": "2024-09-07T15:18:26.898291Z",
     "shell.execute_reply": "2024-09-07T15:18:26.896867Z"
    },
    "papermill": {
     "duration": 0.029016,
     "end_time": "2024-09-07T15:18:26.901592",
     "exception": false,
     "start_time": "2024-09-07T15:18:26.872576",
     "status": "completed"
    },
    "tags": []
   },
   "outputs": [
    {
     "name": "stdout",
     "output_type": "stream",
     "text": [
      "2012-10-26\n",
      "2010-02-05\n"
     ]
    }
   ],
   "source": [
    "# Print the maximum of the date column\n",
    "print(sales[\"date\"].max())\n",
    "\n",
    "# Print the minimum of the date column\n",
    "print(sales[\"date\"].min())"
   ]
  },
  {
   "cell_type": "markdown",
   "id": "8536e73f",
   "metadata": {
    "papermill": {
     "duration": 0.011729,
     "end_time": "2024-09-07T15:18:26.925685",
     "exception": false,
     "start_time": "2024-09-07T15:18:26.913956",
     "status": "completed"
    },
    "tags": []
   },
   "source": [
    "# Efficient summaries"
   ]
  },
  {
   "cell_type": "code",
   "execution_count": 8,
   "id": "07b6cd2d",
   "metadata": {
    "execution": {
     "iopub.execute_input": "2024-09-07T15:18:26.952343Z",
     "iopub.status.busy": "2024-09-07T15:18:26.951793Z",
     "iopub.status.idle": "2024-09-07T15:18:26.964361Z",
     "shell.execute_reply": "2024-09-07T15:18:26.963105Z"
    },
    "papermill": {
     "duration": 0.029465,
     "end_time": "2024-09-07T15:18:26.967309",
     "exception": false,
     "start_time": "2024-09-07T15:18:26.937844",
     "status": "completed"
    },
    "tags": []
   },
   "outputs": [
    {
     "name": "stdout",
     "output_type": "stream",
     "text": [
      "16.583333333333336\n"
     ]
    }
   ],
   "source": [
    "# A custom IQR function\n",
    "def iqr(column):\n",
    "    return column.quantile(0.75) - column.quantile(0.25)\n",
    "    \n",
    "# Print IQR of the temperature_c column\n",
    "print(sales[\"temperature_c\"].agg(iqr))"
   ]
  },
  {
   "cell_type": "code",
   "execution_count": 9,
   "id": "d43f6236",
   "metadata": {
    "execution": {
     "iopub.execute_input": "2024-09-07T15:18:26.993953Z",
     "iopub.status.busy": "2024-09-07T15:18:26.993406Z",
     "iopub.status.idle": "2024-09-07T15:18:27.012730Z",
     "shell.execute_reply": "2024-09-07T15:18:27.011135Z"
    },
    "papermill": {
     "duration": 0.036232,
     "end_time": "2024-09-07T15:18:27.015768",
     "exception": false,
     "start_time": "2024-09-07T15:18:26.979536",
     "status": "completed"
    },
    "tags": []
   },
   "outputs": [
    {
     "name": "stdout",
     "output_type": "stream",
     "text": [
      "temperature_c           16.583333\n",
      "fuel_price_usd_per_l     0.073176\n",
      "unemployment             0.565000\n",
      "dtype: float64\n"
     ]
    }
   ],
   "source": [
    "# Update to print IQR of temperature_c, fuel_price_usd_per_l, & unemployment\n",
    "print(sales[[\"temperature_c\", \"fuel_price_usd_per_l\",\"unemployment\"]].agg(iqr))"
   ]
  },
  {
   "cell_type": "code",
   "execution_count": 10,
   "id": "73bff6e0",
   "metadata": {
    "execution": {
     "iopub.execute_input": "2024-09-07T15:18:27.044659Z",
     "iopub.status.busy": "2024-09-07T15:18:27.044118Z",
     "iopub.status.idle": "2024-09-07T15:18:27.069066Z",
     "shell.execute_reply": "2024-09-07T15:18:27.067356Z"
    },
    "papermill": {
     "duration": 0.043209,
     "end_time": "2024-09-07T15:18:27.072423",
     "exception": false,
     "start_time": "2024-09-07T15:18:27.029214",
     "status": "completed"
    },
    "tags": []
   },
   "outputs": [
    {
     "name": "stdout",
     "output_type": "stream",
     "text": [
      "        temperature_c  fuel_price_usd_per_l  unemployment\n",
      "iqr         16.583333              0.073176         0.565\n",
      "median      16.966667              0.743381         8.099\n"
     ]
    }
   ],
   "source": [
    "# Update to print IQR and median of temperature_c, fuel_price_usd_per_l, & unemployment\n",
    "print(sales[[\"temperature_c\", \"fuel_price_usd_per_l\", \"unemployment\"]].agg([iqr,\"median\"]))"
   ]
  },
  {
   "cell_type": "markdown",
   "id": "f1d2dfdd",
   "metadata": {
    "papermill": {
     "duration": 0.012112,
     "end_time": "2024-09-07T15:18:27.097235",
     "exception": false,
     "start_time": "2024-09-07T15:18:27.085123",
     "status": "completed"
    },
    "tags": []
   },
   "source": [
    "# Dropping duplicates"
   ]
  },
  {
   "cell_type": "code",
   "execution_count": 11,
   "id": "2e6cd11e",
   "metadata": {
    "execution": {
     "iopub.execute_input": "2024-09-07T15:18:27.126187Z",
     "iopub.status.busy": "2024-09-07T15:18:27.125642Z",
     "iopub.status.idle": "2024-09-07T15:18:27.145194Z",
     "shell.execute_reply": "2024-09-07T15:18:27.143648Z"
    },
    "papermill": {
     "duration": 0.038704,
     "end_time": "2024-09-07T15:18:27.148500",
     "exception": false,
     "start_time": "2024-09-07T15:18:27.109796",
     "status": "completed"
    },
    "tags": []
   },
   "outputs": [
    {
     "name": "stdout",
     "output_type": "stream",
     "text": [
      "      store type  department        date  weekly_sales  is_holiday  \\\n",
      "0         1    A           1  2010-02-05      24924.50       False   \n",
      "901       2    A           1  2010-02-05      35034.06       False   \n",
      "1798      4    A           1  2010-02-05      38724.42       False   \n",
      "2699      6    A           1  2010-02-05      25619.00       False   \n",
      "3593     10    B           1  2010-02-05      40212.84       False   \n",
      "\n",
      "      temperature_c  fuel_price_usd_per_l  unemployment  \n",
      "0          5.727778              0.679451         8.106  \n",
      "901        4.550000              0.679451         8.324  \n",
      "1798       6.533333              0.686319         8.623  \n",
      "2699       4.683333              0.679451         7.259  \n",
      "3593      12.411111              0.782478         9.765  \n"
     ]
    }
   ],
   "source": [
    "# Drop duplicate store/type combinations\n",
    "store_types = sales.drop_duplicates(subset=[\"store\",\"type\"])\n",
    "print(store_types.head())"
   ]
  },
  {
   "cell_type": "code",
   "execution_count": 12,
   "id": "dd633bd8",
   "metadata": {
    "execution": {
     "iopub.execute_input": "2024-09-07T15:18:27.178244Z",
     "iopub.status.busy": "2024-09-07T15:18:27.177016Z",
     "iopub.status.idle": "2024-09-07T15:18:27.192024Z",
     "shell.execute_reply": "2024-09-07T15:18:27.190608Z"
    },
    "papermill": {
     "duration": 0.034052,
     "end_time": "2024-09-07T15:18:27.195176",
     "exception": false,
     "start_time": "2024-09-07T15:18:27.161124",
     "status": "completed"
    },
    "tags": []
   },
   "outputs": [
    {
     "name": "stdout",
     "output_type": "stream",
     "text": [
      "    store type  department        date  weekly_sales  is_holiday  \\\n",
      "0       1    A           1  2010-02-05      24924.50       False   \n",
      "12      1    A           2  2010-02-05      50605.27       False   \n",
      "24      1    A           3  2010-02-05      13740.12       False   \n",
      "36      1    A           4  2010-02-05      39954.04       False   \n",
      "48      1    A           5  2010-02-05      32229.38       False   \n",
      "\n",
      "    temperature_c  fuel_price_usd_per_l  unemployment  \n",
      "0        5.727778              0.679451         8.106  \n",
      "12       5.727778              0.679451         8.106  \n",
      "24       5.727778              0.679451         8.106  \n",
      "36       5.727778              0.679451         8.106  \n",
      "48       5.727778              0.679451         8.106  \n"
     ]
    }
   ],
   "source": [
    "# Drop duplicate store/department combinations\n",
    "store_depts=sales.drop_duplicates(subset=[\"store\",\"department\"])\n",
    "print(store_depts.head())"
   ]
  },
  {
   "cell_type": "code",
   "execution_count": 13,
   "id": "4c23d275",
   "metadata": {
    "execution": {
     "iopub.execute_input": "2024-09-07T15:18:27.222785Z",
     "iopub.status.busy": "2024-09-07T15:18:27.222272Z",
     "iopub.status.idle": "2024-09-07T15:18:27.233096Z",
     "shell.execute_reply": "2024-09-07T15:18:27.231654Z"
    },
    "papermill": {
     "duration": 0.027831,
     "end_time": "2024-09-07T15:18:27.235638",
     "exception": false,
     "start_time": "2024-09-07T15:18:27.207807",
     "status": "completed"
    },
    "tags": []
   },
   "outputs": [
    {
     "name": "stdout",
     "output_type": "stream",
     "text": [
      "498     2010-09-10\n",
      "691     2011-11-25\n",
      "2315    2010-02-12\n",
      "6735    2012-09-07\n",
      "6810    2010-12-31\n",
      "6815    2012-02-10\n",
      "6820    2011-09-09\n",
      "Name: date, dtype: object\n"
     ]
    }
   ],
   "source": [
    "# Subset the rows where is_holiday is True and drop duplicate dates\n",
    "holiday_dates = sales[sales[\"is_holiday\"]==True].drop_duplicates(subset=[\"date\"])\n",
    "# Print date col of holiday_dates\n",
    "print(holiday_dates[\"date\"])"
   ]
  },
  {
   "cell_type": "markdown",
   "id": "94c6750f",
   "metadata": {
    "papermill": {
     "duration": 0.01289,
     "end_time": "2024-09-07T15:18:27.262046",
     "exception": false,
     "start_time": "2024-09-07T15:18:27.249156",
     "status": "completed"
    },
    "tags": []
   },
   "source": [
    "# Counting categorical variables"
   ]
  },
  {
   "cell_type": "code",
   "execution_count": 14,
   "id": "d308224a",
   "metadata": {
    "execution": {
     "iopub.execute_input": "2024-09-07T15:18:27.290385Z",
     "iopub.status.busy": "2024-09-07T15:18:27.289815Z",
     "iopub.status.idle": "2024-09-07T15:18:27.298663Z",
     "shell.execute_reply": "2024-09-07T15:18:27.297213Z"
    },
    "papermill": {
     "duration": 0.026556,
     "end_time": "2024-09-07T15:18:27.301776",
     "exception": false,
     "start_time": "2024-09-07T15:18:27.275220",
     "status": "completed"
    },
    "tags": []
   },
   "outputs": [
    {
     "name": "stdout",
     "output_type": "stream",
     "text": [
      "type\n",
      "A    11\n",
      "B     1\n",
      "Name: count, dtype: int64\n"
     ]
    }
   ],
   "source": [
    "# Count the number of stores of each type\n",
    "store_counts = store_types[\"type\"].value_counts()\n",
    "print(store_counts)"
   ]
  },
  {
   "cell_type": "code",
   "execution_count": 15,
   "id": "883c081c",
   "metadata": {
    "execution": {
     "iopub.execute_input": "2024-09-07T15:18:27.332000Z",
     "iopub.status.busy": "2024-09-07T15:18:27.331439Z",
     "iopub.status.idle": "2024-09-07T15:18:27.341888Z",
     "shell.execute_reply": "2024-09-07T15:18:27.340327Z"
    },
    "papermill": {
     "duration": 0.028791,
     "end_time": "2024-09-07T15:18:27.344834",
     "exception": false,
     "start_time": "2024-09-07T15:18:27.316043",
     "status": "completed"
    },
    "tags": []
   },
   "outputs": [
    {
     "name": "stdout",
     "output_type": "stream",
     "text": [
      "type\n",
      "A    0.916667\n",
      "B    0.083333\n",
      "Name: proportion, dtype: float64\n"
     ]
    }
   ],
   "source": [
    "# Get the proportion of stores of each type\n",
    "store_props = store_types[\"type\"].value_counts(normalize=True)\n",
    "print(store_props)"
   ]
  },
  {
   "cell_type": "code",
   "execution_count": 16,
   "id": "aefc67ac",
   "metadata": {
    "execution": {
     "iopub.execute_input": "2024-09-07T15:18:27.374311Z",
     "iopub.status.busy": "2024-09-07T15:18:27.373097Z",
     "iopub.status.idle": "2024-09-07T15:18:27.384904Z",
     "shell.execute_reply": "2024-09-07T15:18:27.383518Z"
    },
    "papermill": {
     "duration": 0.029506,
     "end_time": "2024-09-07T15:18:27.387934",
     "exception": false,
     "start_time": "2024-09-07T15:18:27.358428",
     "status": "completed"
    },
    "tags": []
   },
   "outputs": [
    {
     "name": "stdout",
     "output_type": "stream",
     "text": [
      "department\n",
      "1     12\n",
      "55    12\n",
      "72    12\n",
      "71    12\n",
      "67    12\n",
      "      ..\n",
      "37    10\n",
      "48     8\n",
      "50     6\n",
      "39     4\n",
      "43     2\n",
      "Name: count, Length: 80, dtype: int64\n"
     ]
    }
   ],
   "source": [
    "# Count the number of stores of each department and sort\n",
    "dept_counts_sorted = store_depts[\"department\"].value_counts(sort=True)\n",
    "print(dept_counts_sorted)"
   ]
  },
  {
   "cell_type": "code",
   "execution_count": 17,
   "id": "3e283e06",
   "metadata": {
    "execution": {
     "iopub.execute_input": "2024-09-07T15:18:27.416129Z",
     "iopub.status.busy": "2024-09-07T15:18:27.415523Z",
     "iopub.status.idle": "2024-09-07T15:18:27.426844Z",
     "shell.execute_reply": "2024-09-07T15:18:27.425402Z"
    },
    "papermill": {
     "duration": 0.029279,
     "end_time": "2024-09-07T15:18:27.430014",
     "exception": false,
     "start_time": "2024-09-07T15:18:27.400735",
     "status": "completed"
    },
    "tags": []
   },
   "outputs": [
    {
     "name": "stdout",
     "output_type": "stream",
     "text": [
      "department\n",
      "1     0.012917\n",
      "55    0.012917\n",
      "72    0.012917\n",
      "71    0.012917\n",
      "67    0.012917\n",
      "        ...   \n",
      "37    0.010764\n",
      "48    0.008611\n",
      "50    0.006459\n",
      "39    0.004306\n",
      "43    0.002153\n",
      "Name: proportion, Length: 80, dtype: float64\n"
     ]
    }
   ],
   "source": [
    "# Get the proportion of stores of each department and sort\n",
    "dept_props_sorted = store_depts[\"department\"].value_counts(sort=True, normalize=True)\n",
    "print(dept_props_sorted)"
   ]
  },
  {
   "cell_type": "markdown",
   "id": "f6f49999",
   "metadata": {
    "papermill": {
     "duration": 0.012534,
     "end_time": "2024-09-07T15:18:27.455786",
     "exception": false,
     "start_time": "2024-09-07T15:18:27.443252",
     "status": "completed"
    },
    "tags": []
   },
   "source": [
    "# What percent of sales occurred at each store type?\n",
    "While .groupby() is useful, you can calculate grouped summary statistics without it."
   ]
  },
  {
   "cell_type": "code",
   "execution_count": 18,
   "id": "55f00207",
   "metadata": {
    "execution": {
     "iopub.execute_input": "2024-09-07T15:18:27.484370Z",
     "iopub.status.busy": "2024-09-07T15:18:27.483782Z",
     "iopub.status.idle": "2024-09-07T15:18:27.506536Z",
     "shell.execute_reply": "2024-09-07T15:18:27.505132Z"
    },
    "papermill": {
     "duration": 0.041144,
     "end_time": "2024-09-07T15:18:27.509947",
     "exception": false,
     "start_time": "2024-09-07T15:18:27.468803",
     "status": "completed"
    },
    "tags": []
   },
   "outputs": [
    {
     "name": "stdout",
     "output_type": "stream",
     "text": [
      "[0.9097747 0.0902253 0.       ]\n"
     ]
    }
   ],
   "source": [
    "# Calc total weekly sales\n",
    "sales_all = sales[\"weekly_sales\"].sum()\n",
    "\n",
    "# Subset for type A stores, calc total weekly sales\n",
    "sales_A = sales[sales[\"type\"] == \"A\"][\"weekly_sales\"].sum()\n",
    "\n",
    "# Subset for type B stores, calc total weekly sales\n",
    "sales_B = sales[sales[\"type\"] == \"B\"][\"weekly_sales\"].sum()\n",
    "\n",
    "# Subset for type C stores, calc total weekly sales\n",
    "sales_C = sales[sales[\"type\"] == \"C\"][\"weekly_sales\"].sum()\n",
    "\n",
    "# Get proportion for each type\n",
    "sales_propn_by_type = [sales_A, sales_B, sales_C] / sales_all\n",
    "print(sales_propn_by_type)"
   ]
  },
  {
   "cell_type": "markdown",
   "id": "a003805e",
   "metadata": {
    "papermill": {
     "duration": 0.012549,
     "end_time": "2024-09-07T15:18:27.535793",
     "exception": false,
     "start_time": "2024-09-07T15:18:27.523244",
     "status": "completed"
    },
    "tags": []
   },
   "source": [
    "# Calculations with .groupby()"
   ]
  },
  {
   "cell_type": "code",
   "execution_count": 19,
   "id": "b0999bb1",
   "metadata": {
    "execution": {
     "iopub.execute_input": "2024-09-07T15:18:27.564827Z",
     "iopub.status.busy": "2024-09-07T15:18:27.564279Z",
     "iopub.status.idle": "2024-09-07T15:18:27.577542Z",
     "shell.execute_reply": "2024-09-07T15:18:27.576354Z"
    },
    "papermill": {
     "duration": 0.031465,
     "end_time": "2024-09-07T15:18:27.580563",
     "exception": false,
     "start_time": "2024-09-07T15:18:27.549098",
     "status": "completed"
    },
    "tags": []
   },
   "outputs": [
    {
     "name": "stdout",
     "output_type": "stream",
     "text": [
      "type\n",
      "A    0.909775\n",
      "B    0.090225\n",
      "Name: weekly_sales, dtype: float64\n"
     ]
    }
   ],
   "source": [
    "# Group by type; calc total weekly sales\n",
    "sales_by_type = sales.groupby(\"type\")[\"weekly_sales\"].sum()\n",
    "\n",
    "# Get proportion for each type\n",
    "sales_propn_by_type = sales_by_type / sum(sales_by_type)\n",
    "print(sales_propn_by_type)"
   ]
  },
  {
   "cell_type": "code",
   "execution_count": 20,
   "id": "f24f9b79",
   "metadata": {
    "execution": {
     "iopub.execute_input": "2024-09-07T15:18:27.611451Z",
     "iopub.status.busy": "2024-09-07T15:18:27.609797Z",
     "iopub.status.idle": "2024-09-07T15:18:27.624146Z",
     "shell.execute_reply": "2024-09-07T15:18:27.622595Z"
    },
    "papermill": {
     "duration": 0.032777,
     "end_time": "2024-09-07T15:18:27.627201",
     "exception": false,
     "start_time": "2024-09-07T15:18:27.594424",
     "status": "completed"
    },
    "tags": []
   },
   "outputs": [
    {
     "name": "stdout",
     "output_type": "stream",
     "text": [
      "type  is_holiday\n",
      "A     False         2.336927e+08\n",
      "      True          2.360181e+04\n",
      "B     False         2.317678e+07\n",
      "      True          1.621410e+03\n",
      "Name: weekly_sales, dtype: float64\n"
     ]
    }
   ],
   "source": [
    "# Group by type and is_holiday; calc total weekly sales\n",
    "sales_by_type_is_holiday = sales.groupby([\"type\",\"is_holiday\"])[\"weekly_sales\"].sum()\n",
    "print(sales_by_type_is_holiday)"
   ]
  },
  {
   "cell_type": "markdown",
   "id": "55a70d28",
   "metadata": {
    "papermill": {
     "duration": 0.013221,
     "end_time": "2024-09-07T15:18:27.654348",
     "exception": false,
     "start_time": "2024-09-07T15:18:27.641127",
     "status": "completed"
    },
    "tags": []
   },
   "source": [
    "# Multiple grouped summaries"
   ]
  },
  {
   "cell_type": "code",
   "execution_count": 21,
   "id": "d77d40d0",
   "metadata": {
    "execution": {
     "iopub.execute_input": "2024-09-07T15:18:27.684107Z",
     "iopub.status.busy": "2024-09-07T15:18:27.683533Z",
     "iopub.status.idle": "2024-09-07T15:18:27.705580Z",
     "shell.execute_reply": "2024-09-07T15:18:27.704157Z"
    },
    "papermill": {
     "duration": 0.040279,
     "end_time": "2024-09-07T15:18:27.708411",
     "exception": false,
     "start_time": "2024-09-07T15:18:27.668132",
     "status": "completed"
    },
    "tags": []
   },
   "outputs": [
    {
     "name": "stdout",
     "output_type": "stream",
     "text": [
      "         min        max          mean    median\n",
      "type                                           \n",
      "A    -1098.0  293966.05  23674.667242  11943.92\n",
      "B     -798.0  232558.51  25696.678370  13336.08\n"
     ]
    }
   ],
   "source": [
    "# For each store type, aggregate weekly_sales: get min, max, mean, and median\n",
    "sales_stats = sales.groupby(\"type\")[\"weekly_sales\"].agg([\"min\",\"max\",\"mean\",\"median\"])\n",
    "\n",
    "# Print sales_stats\n",
    "print(sales_stats)"
   ]
  },
  {
   "cell_type": "code",
   "execution_count": 22,
   "id": "b898fe99",
   "metadata": {
    "execution": {
     "iopub.execute_input": "2024-09-07T15:18:27.739358Z",
     "iopub.status.busy": "2024-09-07T15:18:27.737999Z",
     "iopub.status.idle": "2024-09-07T15:18:27.761996Z",
     "shell.execute_reply": "2024-09-07T15:18:27.760520Z"
    },
    "papermill": {
     "duration": 0.043181,
     "end_time": "2024-09-07T15:18:27.765238",
     "exception": false,
     "start_time": "2024-09-07T15:18:27.722057",
     "status": "completed"
    },
    "tags": []
   },
   "outputs": [
    {
     "name": "stdout",
     "output_type": "stream",
     "text": [
      "     unemployment                         fuel_price_usd_per_l            \\\n",
      "              min    max      mean median                  min       max   \n",
      "type                                                                       \n",
      "A           3.879  8.992  7.972611  8.067             0.664129  1.107410   \n",
      "B           7.170  9.765  9.279323  9.199             0.760023  1.107674   \n",
      "\n",
      "                          \n",
      "          mean    median  \n",
      "type                      \n",
      "A     0.744619  0.735455  \n",
      "B     0.805858  0.803348  \n"
     ]
    }
   ],
   "source": [
    "# For each store type, aggregate unemployment and fuel_price_usd_per_l: get min, max, mean, and median\n",
    "unemp_fuel_stats = sales.groupby(\"type\")[[\"unemployment\",\"fuel_price_usd_per_l\"]].agg([\"min\",\"max\",\"mean\",\"median\"])\n",
    "\n",
    "# Print unemp_fuel_stats\n",
    "print(unemp_fuel_stats)"
   ]
  },
  {
   "cell_type": "markdown",
   "id": "07756650",
   "metadata": {
    "papermill": {
     "duration": 0.013299,
     "end_time": "2024-09-07T15:18:27.792593",
     "exception": false,
     "start_time": "2024-09-07T15:18:27.779294",
     "status": "completed"
    },
    "tags": []
   },
   "source": [
    "# Pivoting on one variable"
   ]
  },
  {
   "cell_type": "code",
   "execution_count": 23,
   "id": "22ed378f",
   "metadata": {
    "execution": {
     "iopub.execute_input": "2024-09-07T15:18:27.822433Z",
     "iopub.status.busy": "2024-09-07T15:18:27.821905Z",
     "iopub.status.idle": "2024-09-07T15:18:27.843210Z",
     "shell.execute_reply": "2024-09-07T15:18:27.841762Z"
    },
    "papermill": {
     "duration": 0.039975,
     "end_time": "2024-09-07T15:18:27.846376",
     "exception": false,
     "start_time": "2024-09-07T15:18:27.806401",
     "status": "completed"
    },
    "tags": []
   },
   "outputs": [
    {
     "name": "stdout",
     "output_type": "stream",
     "text": [
      "      weekly_sales\n",
      "type              \n",
      "A     23674.667242\n",
      "B     25696.678370\n"
     ]
    }
   ],
   "source": [
    "# Pivot for mean weekly_sales for each store type\n",
    "mean_sales_by_type = sales.pivot_table(values=\"weekly_sales\", index=\"type\")\n",
    "\n",
    "# Print mean_sales_by_type\n",
    "print(mean_sales_by_type)"
   ]
  },
  {
   "cell_type": "code",
   "execution_count": 24,
   "id": "7d0eea88",
   "metadata": {
    "execution": {
     "iopub.execute_input": "2024-09-07T15:18:27.876493Z",
     "iopub.status.busy": "2024-09-07T15:18:27.875953Z",
     "iopub.status.idle": "2024-09-07T15:18:27.902038Z",
     "shell.execute_reply": "2024-09-07T15:18:27.900513Z"
    },
    "papermill": {
     "duration": 0.044829,
     "end_time": "2024-09-07T15:18:27.905140",
     "exception": false,
     "start_time": "2024-09-07T15:18:27.860311",
     "status": "completed"
    },
    "tags": []
   },
   "outputs": [
    {
     "name": "stdout",
     "output_type": "stream",
     "text": [
      "              mean       median\n",
      "      weekly_sales weekly_sales\n",
      "type                           \n",
      "A     23674.667242     11943.92\n",
      "B     25696.678370     13336.08\n"
     ]
    }
   ],
   "source": [
    "# Pivot for mean and median weekly_sales for each store type\n",
    "mean_med_sales_by_type = sales.pivot_table(values=\"weekly_sales\",index=\"type\",aggfunc=[\"mean\",\"median\"])\n",
    "\n",
    "# Print mean_med_sales_by_type\n",
    "print(mean_med_sales_by_type)"
   ]
  },
  {
   "cell_type": "code",
   "execution_count": 25,
   "id": "c3a1e094",
   "metadata": {
    "execution": {
     "iopub.execute_input": "2024-09-07T15:18:27.935397Z",
     "iopub.status.busy": "2024-09-07T15:18:27.934860Z",
     "iopub.status.idle": "2024-09-07T15:18:27.958040Z",
     "shell.execute_reply": "2024-09-07T15:18:27.956541Z"
    },
    "papermill": {
     "duration": 0.042156,
     "end_time": "2024-09-07T15:18:27.961397",
     "exception": false,
     "start_time": "2024-09-07T15:18:27.919241",
     "status": "completed"
    },
    "tags": []
   },
   "outputs": [
    {
     "name": "stdout",
     "output_type": "stream",
     "text": [
      "is_holiday         False      True \n",
      "type                               \n",
      "A           23768.583523  590.04525\n",
      "B           25751.980533  810.70500\n"
     ]
    }
   ],
   "source": [
    "# Pivot for mean weekly_sales by store type and holiday \n",
    "mean_sales_by_type_holiday = sales.pivot_table(values=\"weekly_sales\", index=\"type\", columns=\"is_holiday\")\n",
    "\n",
    "# Print mean_sales_by_type_holiday\n",
    "print(mean_sales_by_type_holiday)"
   ]
  },
  {
   "cell_type": "markdown",
   "id": "eb9d6590",
   "metadata": {
    "papermill": {
     "duration": 0.013779,
     "end_time": "2024-09-07T15:18:27.989314",
     "exception": false,
     "start_time": "2024-09-07T15:18:27.975535",
     "status": "completed"
    },
    "tags": []
   },
   "source": [
    "# Fill in missing values and sum values with pivot tables"
   ]
  },
  {
   "cell_type": "code",
   "execution_count": 26,
   "id": "0375d8ae",
   "metadata": {
    "execution": {
     "iopub.execute_input": "2024-09-07T15:18:28.026581Z",
     "iopub.status.busy": "2024-09-07T15:18:28.026035Z",
     "iopub.status.idle": "2024-09-07T15:18:28.047489Z",
     "shell.execute_reply": "2024-09-07T15:18:28.046040Z"
    },
    "papermill": {
     "duration": 0.040789,
     "end_time": "2024-09-07T15:18:28.050609",
     "exception": false,
     "start_time": "2024-09-07T15:18:28.009820",
     "status": "completed"
    },
    "tags": []
   },
   "outputs": [
    {
     "name": "stdout",
     "output_type": "stream",
     "text": [
      "type                    A              B\n",
      "department                              \n",
      "1            30961.725379   44050.626667\n",
      "2            67600.158788  112958.526667\n",
      "3            17160.002955   30580.655000\n",
      "4            44285.399091   51219.654167\n",
      "5            34821.011364   63236.875000\n",
      "...                   ...            ...\n",
      "95          123933.787121   77082.102500\n",
      "96           21367.042857    9528.538333\n",
      "97           28471.266970    5828.873333\n",
      "98           12875.423182     217.428333\n",
      "99             379.123659       0.000000\n",
      "\n",
      "[80 rows x 2 columns]\n"
     ]
    }
   ],
   "source": [
    "# Print mean weekly_sales by department and type; fill missing values with 0\n",
    "print(sales.pivot_table(values=\"weekly_sales\",index=\"department\",columns=\"type\", fill_value=0))"
   ]
  },
  {
   "cell_type": "code",
   "execution_count": 27,
   "id": "c49dee24",
   "metadata": {
    "execution": {
     "iopub.execute_input": "2024-09-07T15:18:28.081594Z",
     "iopub.status.busy": "2024-09-07T15:18:28.081078Z",
     "iopub.status.idle": "2024-09-07T15:18:28.129440Z",
     "shell.execute_reply": "2024-09-07T15:18:28.127938Z"
    },
    "papermill": {
     "duration": 0.067813,
     "end_time": "2024-09-07T15:18:28.132897",
     "exception": false,
     "start_time": "2024-09-07T15:18:28.065084",
     "status": "completed"
    },
    "tags": []
   },
   "outputs": [
    {
     "name": "stdout",
     "output_type": "stream",
     "text": [
      "type                   A              B           All\n",
      "department                                           \n",
      "1           30961.725379   44050.626667  32052.467153\n",
      "2           67600.158788  112958.526667  71380.022778\n",
      "3           17160.002955   30580.655000  18278.390625\n",
      "4           44285.399091   51219.654167  44863.253681\n",
      "5           34821.011364   63236.875000  37189.000000\n",
      "...                  ...            ...           ...\n",
      "96          21367.042857    9528.538333  20337.607681\n",
      "97          28471.266970    5828.873333  26584.400833\n",
      "98          12875.423182     217.428333  11820.590278\n",
      "99            379.123659       0.000000    379.123659\n",
      "All         23674.667242   25696.678370  23843.950149\n",
      "\n",
      "[81 rows x 3 columns]\n"
     ]
    }
   ],
   "source": [
    "# Print the mean weekly_sales by department and type; fill missing values with 0s; sum all rows and cols\n",
    "print(sales.pivot_table(values=\"weekly_sales\", index=\"department\", columns=\"type\", fill_value=0, margins=True))"
   ]
  }
 ],
 "metadata": {
  "kaggle": {
   "accelerator": "none",
   "dataSources": [
    {
     "datasetId": 5528406,
     "sourceId": 9340016,
     "sourceType": "datasetVersion"
    }
   ],
   "dockerImageVersionId": 30761,
   "isGpuEnabled": false,
   "isInternetEnabled": true,
   "language": "python",
   "sourceType": "notebook"
  },
  "kernelspec": {
   "display_name": "Python 3",
   "language": "python",
   "name": "python3"
  },
  "language_info": {
   "codemirror_mode": {
    "name": "ipython",
    "version": 3
   },
   "file_extension": ".py",
   "mimetype": "text/x-python",
   "name": "python",
   "nbconvert_exporter": "python",
   "pygments_lexer": "ipython3",
   "version": "3.10.14"
  },
  "papermill": {
   "default_parameters": {},
   "duration": 6.249822,
   "end_time": "2024-09-07T15:18:28.875649",
   "environment_variables": {},
   "exception": null,
   "input_path": "__notebook__.ipynb",
   "output_path": "__notebook__.ipynb",
   "parameters": {},
   "start_time": "2024-09-07T15:18:22.625827",
   "version": "2.6.0"
  }
 },
 "nbformat": 4,
 "nbformat_minor": 5
}
