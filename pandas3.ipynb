{
 "cells": [
  {
   "cell_type": "code",
   "execution_count": 1,
   "id": "08ae7777",
   "metadata": {
    "_cell_guid": "b1076dfc-b9ad-4769-8c92-a6c4dae69d19",
    "_uuid": "8f2839f25d086af736a60e9eeb907d3b93b6e0e5",
    "execution": {
     "iopub.execute_input": "2024-10-05T10:56:51.682245Z",
     "iopub.status.busy": "2024-10-05T10:56:51.680783Z",
     "iopub.status.idle": "2024-10-05T10:56:52.966638Z",
     "shell.execute_reply": "2024-10-05T10:56:52.964661Z"
    },
    "papermill": {
     "duration": 1.307185,
     "end_time": "2024-10-05T10:56:52.970492",
     "exception": false,
     "start_time": "2024-10-05T10:56:51.663307",
     "status": "completed"
    },
    "tags": []
   },
   "outputs": [
    {
     "name": "stdout",
     "output_type": "stream",
     "text": [
      "/kaggle/input/datacampdatasets/temperatures.csv\n",
      "/kaggle/input/datacampdatasets/homelessness.csv\n",
      "/kaggle/input/datacampdatasets/hourly_wages.csv\n",
      "/kaggle/input/datacampdatasets/sales_subset.csv\n",
      "/kaggle/input/datacampdatasets/banknotes.csv\n"
     ]
    }
   ],
   "source": [
    "# This Python 3 environment comes with many helpful analytics libraries installed\n",
    "# It is defined by the kaggle/python Docker image: https://github.com/kaggle/docker-python\n",
    "# For example, here's several helpful packages to load\n",
    "\n",
    "import numpy as np # linear algebra\n",
    "import pandas as pd # data processing, CSV file I/O (e.g. pd.read_csv)\n",
    "\n",
    "# Input data files are available in the read-only \"../input/\" directory\n",
    "# For example, running this (by clicking run or pressing Shift+Enter) will list all files under the input directory\n",
    "\n",
    "import os\n",
    "for dirname, _, filenames in os.walk('/kaggle/input'):\n",
    "    for filename in filenames:\n",
    "        print(os.path.join(dirname, filename))\n",
    "\n",
    "# You can write up to 20GB to the current directory (/kaggle/working/) that gets preserved as output when you create a version using \"Save & Run All\" \n",
    "# You can also write temporary files to /kaggle/temp/, but they won't be saved outside of the current session"
   ]
  },
  {
   "cell_type": "code",
   "execution_count": 2,
   "id": "2a5ab3ad",
   "metadata": {
    "execution": {
     "iopub.execute_input": "2024-10-05T10:56:53.013276Z",
     "iopub.status.busy": "2024-10-05T10:56:53.012405Z",
     "iopub.status.idle": "2024-10-05T10:56:53.098469Z",
     "shell.execute_reply": "2024-10-05T10:56:53.095966Z"
    },
    "papermill": {
     "duration": 0.114611,
     "end_time": "2024-10-05T10:56:53.102954",
     "exception": false,
     "start_time": "2024-10-05T10:56:52.988343",
     "status": "completed"
    },
    "tags": []
   },
   "outputs": [],
   "source": [
    "temperatures=pd.read_csv(\"/kaggle/input/datacampdatasets/temperatures.csv\",index_col=0)"
   ]
  },
  {
   "cell_type": "markdown",
   "id": "d142a3e5",
   "metadata": {
    "papermill": {
     "duration": 0.018543,
     "end_time": "2024-10-05T10:56:53.137451",
     "exception": false,
     "start_time": "2024-10-05T10:56:53.118908",
     "status": "completed"
    },
    "tags": []
   },
   "source": [
    "# Explicit indexes"
   ]
  },
  {
   "cell_type": "markdown",
   "id": "190453d3",
   "metadata": {
    "papermill": {
     "duration": 0.017984,
     "end_time": "2024-10-05T10:56:53.171040",
     "exception": false,
     "start_time": "2024-10-05T10:56:53.153056",
     "status": "completed"
    },
    "tags": []
   },
   "source": [
    "## Setting and removing indexes"
   ]
  },
  {
   "cell_type": "code",
   "execution_count": 3,
   "id": "8671f4cb",
   "metadata": {
    "execution": {
     "iopub.execute_input": "2024-10-05T10:56:53.203115Z",
     "iopub.status.busy": "2024-10-05T10:56:53.201772Z",
     "iopub.status.idle": "2024-10-05T10:56:53.223394Z",
     "shell.execute_reply": "2024-10-05T10:56:53.221425Z"
    },
    "papermill": {
     "duration": 0.041312,
     "end_time": "2024-10-05T10:56:53.226830",
     "exception": false,
     "start_time": "2024-10-05T10:56:53.185518",
     "status": "completed"
    },
    "tags": []
   },
   "outputs": [
    {
     "name": "stdout",
     "output_type": "stream",
     "text": [
      "             date     city        country  avg_temp_c\n",
      "0      2000-01-01  Abidjan  Côte D'Ivoire      27.293\n",
      "1      2000-02-01  Abidjan  Côte D'Ivoire      27.685\n",
      "2      2000-03-01  Abidjan  Côte D'Ivoire      29.061\n",
      "3      2000-04-01  Abidjan  Côte D'Ivoire      28.162\n",
      "4      2000-05-01  Abidjan  Côte D'Ivoire      27.547\n",
      "...           ...      ...            ...         ...\n",
      "16495  2013-05-01     Xian          China      18.979\n",
      "16496  2013-06-01     Xian          China      23.522\n",
      "16497  2013-07-01     Xian          China      25.251\n",
      "16498  2013-08-01     Xian          China      24.528\n",
      "16499  2013-09-01     Xian          China         NaN\n",
      "\n",
      "[16500 rows x 4 columns]\n"
     ]
    }
   ],
   "source": [
    "# Look at temperatures\n",
    "print(temperatures)"
   ]
  },
  {
   "cell_type": "code",
   "execution_count": 4,
   "id": "2ff94602",
   "metadata": {
    "execution": {
     "iopub.execute_input": "2024-10-05T10:56:53.260472Z",
     "iopub.status.busy": "2024-10-05T10:56:53.259147Z",
     "iopub.status.idle": "2024-10-05T10:56:53.273772Z",
     "shell.execute_reply": "2024-10-05T10:56:53.272286Z"
    },
    "papermill": {
     "duration": 0.035154,
     "end_time": "2024-10-05T10:56:53.277440",
     "exception": false,
     "start_time": "2024-10-05T10:56:53.242286",
     "status": "completed"
    },
    "tags": []
   },
   "outputs": [
    {
     "name": "stdout",
     "output_type": "stream",
     "text": [
      "               date        country  avg_temp_c\n",
      "city                                          \n",
      "Abidjan  2000-01-01  Côte D'Ivoire      27.293\n",
      "Abidjan  2000-02-01  Côte D'Ivoire      27.685\n",
      "Abidjan  2000-03-01  Côte D'Ivoire      29.061\n",
      "Abidjan  2000-04-01  Côte D'Ivoire      28.162\n",
      "Abidjan  2000-05-01  Côte D'Ivoire      27.547\n",
      "...             ...            ...         ...\n",
      "Xian     2013-05-01          China      18.979\n",
      "Xian     2013-06-01          China      23.522\n",
      "Xian     2013-07-01          China      25.251\n",
      "Xian     2013-08-01          China      24.528\n",
      "Xian     2013-09-01          China         NaN\n",
      "\n",
      "[16500 rows x 3 columns]\n"
     ]
    }
   ],
   "source": [
    "# Set the index of temperatures to city\n",
    "temperatures_ind = temperatures.set_index(\"city\")\n",
    "\n",
    "# Look at temperatures_ind\n",
    "print(temperatures_ind)"
   ]
  },
  {
   "cell_type": "code",
   "execution_count": 5,
   "id": "187599b4",
   "metadata": {
    "execution": {
     "iopub.execute_input": "2024-10-05T10:56:53.314742Z",
     "iopub.status.busy": "2024-10-05T10:56:53.312952Z",
     "iopub.status.idle": "2024-10-05T10:56:53.334974Z",
     "shell.execute_reply": "2024-10-05T10:56:53.333320Z"
    },
    "papermill": {
     "duration": 0.043446,
     "end_time": "2024-10-05T10:56:53.338650",
     "exception": false,
     "start_time": "2024-10-05T10:56:53.295204",
     "status": "completed"
    },
    "tags": []
   },
   "outputs": [
    {
     "name": "stdout",
     "output_type": "stream",
     "text": [
      "          city        date        country  avg_temp_c\n",
      "0      Abidjan  2000-01-01  Côte D'Ivoire      27.293\n",
      "1      Abidjan  2000-02-01  Côte D'Ivoire      27.685\n",
      "2      Abidjan  2000-03-01  Côte D'Ivoire      29.061\n",
      "3      Abidjan  2000-04-01  Côte D'Ivoire      28.162\n",
      "4      Abidjan  2000-05-01  Côte D'Ivoire      27.547\n",
      "...        ...         ...            ...         ...\n",
      "16495     Xian  2013-05-01          China      18.979\n",
      "16496     Xian  2013-06-01          China      23.522\n",
      "16497     Xian  2013-07-01          China      25.251\n",
      "16498     Xian  2013-08-01          China      24.528\n",
      "16499     Xian  2013-09-01          China         NaN\n",
      "\n",
      "[16500 rows x 4 columns]\n"
     ]
    }
   ],
   "source": [
    "# Reset the temperatures_ind index, keeping its contents\n",
    "print(temperatures_ind.reset_index())"
   ]
  },
  {
   "cell_type": "code",
   "execution_count": 6,
   "id": "0d814f44",
   "metadata": {
    "execution": {
     "iopub.execute_input": "2024-10-05T10:56:53.373138Z",
     "iopub.status.busy": "2024-10-05T10:56:53.372510Z",
     "iopub.status.idle": "2024-10-05T10:56:53.387063Z",
     "shell.execute_reply": "2024-10-05T10:56:53.385339Z"
    },
    "papermill": {
     "duration": 0.036699,
     "end_time": "2024-10-05T10:56:53.391571",
     "exception": false,
     "start_time": "2024-10-05T10:56:53.354872",
     "status": "completed"
    },
    "tags": []
   },
   "outputs": [
    {
     "name": "stdout",
     "output_type": "stream",
     "text": [
      "             date        country  avg_temp_c\n",
      "0      2000-01-01  Côte D'Ivoire      27.293\n",
      "1      2000-02-01  Côte D'Ivoire      27.685\n",
      "2      2000-03-01  Côte D'Ivoire      29.061\n",
      "3      2000-04-01  Côte D'Ivoire      28.162\n",
      "4      2000-05-01  Côte D'Ivoire      27.547\n",
      "...           ...            ...         ...\n",
      "16495  2013-05-01          China      18.979\n",
      "16496  2013-06-01          China      23.522\n",
      "16497  2013-07-01          China      25.251\n",
      "16498  2013-08-01          China      24.528\n",
      "16499  2013-09-01          China         NaN\n",
      "\n",
      "[16500 rows x 3 columns]\n"
     ]
    }
   ],
   "source": [
    "# Reset the temperatures_ind index, dropping its contents\n",
    "print(temperatures_ind.reset_index(drop=True))"
   ]
  },
  {
   "cell_type": "markdown",
   "id": "f2cfb69e",
   "metadata": {
    "papermill": {
     "duration": 0.015657,
     "end_time": "2024-10-05T10:56:53.423885",
     "exception": false,
     "start_time": "2024-10-05T10:56:53.408228",
     "status": "completed"
    },
    "tags": []
   },
   "source": [
    "## Subsetting with .loc[]"
   ]
  },
  {
   "cell_type": "code",
   "execution_count": 7,
   "id": "7c00ef6d",
   "metadata": {
    "execution": {
     "iopub.execute_input": "2024-10-05T10:56:53.459694Z",
     "iopub.status.busy": "2024-10-05T10:56:53.459145Z",
     "iopub.status.idle": "2024-10-05T10:56:53.494930Z",
     "shell.execute_reply": "2024-10-05T10:56:53.491571Z"
    },
    "papermill": {
     "duration": 0.058113,
     "end_time": "2024-10-05T10:56:53.499894",
     "exception": false,
     "start_time": "2024-10-05T10:56:53.441781",
     "status": "completed"
    },
    "tags": []
   },
   "outputs": [
    {
     "name": "stdout",
     "output_type": "stream",
     "text": [
      "             date              city country  avg_temp_c\n",
      "10725  2000-01-01            Moscow  Russia      -7.313\n",
      "10726  2000-02-01            Moscow  Russia      -3.551\n",
      "10727  2000-03-01            Moscow  Russia      -1.661\n",
      "10728  2000-04-01            Moscow  Russia      10.096\n",
      "10729  2000-05-01            Moscow  Russia      10.357\n",
      "...           ...               ...     ...         ...\n",
      "13360  2013-05-01  Saint Petersburg  Russia      12.355\n",
      "13361  2013-06-01  Saint Petersburg  Russia      17.185\n",
      "13362  2013-07-01  Saint Petersburg  Russia      17.234\n",
      "13363  2013-08-01  Saint Petersburg  Russia      17.153\n",
      "13364  2013-09-01  Saint Petersburg  Russia         NaN\n",
      "\n",
      "[330 rows x 4 columns]\n",
      "----------------------------------------------------\n",
      "                        date country  avg_temp_c\n",
      "city                                            \n",
      "Moscow            2000-01-01  Russia      -7.313\n",
      "Moscow            2000-02-01  Russia      -3.551\n",
      "Moscow            2000-03-01  Russia      -1.661\n",
      "Moscow            2000-04-01  Russia      10.096\n",
      "Moscow            2000-05-01  Russia      10.357\n",
      "...                      ...     ...         ...\n",
      "Saint Petersburg  2013-05-01  Russia      12.355\n",
      "Saint Petersburg  2013-06-01  Russia      17.185\n",
      "Saint Petersburg  2013-07-01  Russia      17.234\n",
      "Saint Petersburg  2013-08-01  Russia      17.153\n",
      "Saint Petersburg  2013-09-01  Russia         NaN\n",
      "\n",
      "[330 rows x 3 columns]\n"
     ]
    }
   ],
   "source": [
    "# Make a list of cities to subset on\n",
    "cities = [\"Moscow\", \"Saint Petersburg\"]\n",
    "\n",
    "# Subset temperatures using square brackets\n",
    "print(temperatures[temperatures[\"city\"].isin(cities)])\n",
    "\n",
    "print(\"----------------------------------------------------\")\n",
    "\n",
    "# Subset temperatures_ind using .loc[]\n",
    "print(temperatures_ind.loc[cities])"
   ]
  },
  {
   "cell_type": "markdown",
   "id": "4176441a",
   "metadata": {
    "papermill": {
     "duration": 0.017556,
     "end_time": "2024-10-05T10:56:53.535246",
     "exception": false,
     "start_time": "2024-10-05T10:56:53.517690",
     "status": "completed"
    },
    "tags": []
   },
   "source": [
    "## Setting multi-level indexes"
   ]
  },
  {
   "cell_type": "code",
   "execution_count": 8,
   "id": "1f1e4642",
   "metadata": {
    "execution": {
     "iopub.execute_input": "2024-10-05T10:56:53.571610Z",
     "iopub.status.busy": "2024-10-05T10:56:53.571048Z",
     "iopub.status.idle": "2024-10-05T10:56:53.607746Z",
     "shell.execute_reply": "2024-10-05T10:56:53.605840Z"
    },
    "papermill": {
     "duration": 0.05896,
     "end_time": "2024-10-05T10:56:53.611731",
     "exception": false,
     "start_time": "2024-10-05T10:56:53.552771",
     "status": "completed"
    },
    "tags": []
   },
   "outputs": [
    {
     "name": "stdout",
     "output_type": "stream",
     "text": [
      "                               date  avg_temp_c\n",
      "country  city                                  \n",
      "Brazil   Rio De Janeiro  2000-01-01      25.974\n",
      "         Rio De Janeiro  2000-02-01      26.699\n",
      "         Rio De Janeiro  2000-03-01      26.270\n",
      "         Rio De Janeiro  2000-04-01      25.750\n",
      "         Rio De Janeiro  2000-05-01      24.356\n",
      "...                             ...         ...\n",
      "Pakistan Lahore          2013-05-01      33.457\n",
      "         Lahore          2013-06-01      34.456\n",
      "         Lahore          2013-07-01      33.279\n",
      "         Lahore          2013-08-01      31.511\n",
      "         Lahore          2013-09-01         NaN\n",
      "\n",
      "[330 rows x 2 columns]\n"
     ]
    }
   ],
   "source": [
    "# Index temperatures by country & city\n",
    "temperatures_ind = temperatures.set_index([\"country\", \"city\"])\n",
    "\n",
    "# List of tuples: Brazil, Rio De Janeiro & Pakistan, Lahore\n",
    "rows_to_keep = [(\"Brazil\", \"Rio De Janeiro\"), (\"Pakistan\", \"Lahore\")]\n",
    "\n",
    "# Subset for rows to keep\n",
    "print(temperatures_ind.loc[rows_to_keep])"
   ]
  },
  {
   "cell_type": "markdown",
   "id": "7e3953c9",
   "metadata": {
    "papermill": {
     "duration": 0.014983,
     "end_time": "2024-10-05T10:56:53.641847",
     "exception": false,
     "start_time": "2024-10-05T10:56:53.626864",
     "status": "completed"
    },
    "tags": []
   },
   "source": [
    "## Sorting by index values"
   ]
  },
  {
   "cell_type": "code",
   "execution_count": 9,
   "id": "6b926dea",
   "metadata": {
    "execution": {
     "iopub.execute_input": "2024-10-05T10:56:53.674317Z",
     "iopub.status.busy": "2024-10-05T10:56:53.673768Z",
     "iopub.status.idle": "2024-10-05T10:56:53.692074Z",
     "shell.execute_reply": "2024-10-05T10:56:53.690359Z"
    },
    "papermill": {
     "duration": 0.039819,
     "end_time": "2024-10-05T10:56:53.696674",
     "exception": false,
     "start_time": "2024-10-05T10:56:53.656855",
     "status": "completed"
    },
    "tags": []
   },
   "outputs": [
    {
     "name": "stdout",
     "output_type": "stream",
     "text": [
      "                          date  avg_temp_c\n",
      "country     city                          \n",
      "Afghanistan Kabul   2000-01-01       3.326\n",
      "            Kabul   2000-02-01       3.454\n",
      "            Kabul   2000-03-01       9.612\n",
      "            Kabul   2000-04-01      17.925\n",
      "            Kabul   2000-05-01      24.658\n",
      "...                        ...         ...\n",
      "Zimbabwe    Harare  2013-05-01      18.298\n",
      "            Harare  2013-06-01      17.020\n",
      "            Harare  2013-07-01      16.299\n",
      "            Harare  2013-08-01      19.232\n",
      "            Harare  2013-09-01         NaN\n",
      "\n",
      "[16500 rows x 2 columns]\n"
     ]
    }
   ],
   "source": [
    "# Sort temperatures_ind by index values\n",
    "print(temperatures_ind.sort_index())"
   ]
  },
  {
   "cell_type": "code",
   "execution_count": 10,
   "id": "f0d955d6",
   "metadata": {
    "execution": {
     "iopub.execute_input": "2024-10-05T10:56:53.731746Z",
     "iopub.status.busy": "2024-10-05T10:56:53.731158Z",
     "iopub.status.idle": "2024-10-05T10:56:53.746615Z",
     "shell.execute_reply": "2024-10-05T10:56:53.744919Z"
    },
    "papermill": {
     "duration": 0.03773,
     "end_time": "2024-10-05T10:56:53.750476",
     "exception": false,
     "start_time": "2024-10-05T10:56:53.712746",
     "status": "completed"
    },
    "tags": []
   },
   "outputs": [
    {
     "name": "stdout",
     "output_type": "stream",
     "text": [
      "                             date  avg_temp_c\n",
      "country       city                           \n",
      "Côte D'Ivoire Abidjan  2000-01-01      27.293\n",
      "              Abidjan  2000-02-01      27.685\n",
      "              Abidjan  2000-03-01      29.061\n",
      "              Abidjan  2000-04-01      28.162\n",
      "              Abidjan  2000-05-01      27.547\n",
      "...                           ...         ...\n",
      "China         Xian     2013-05-01      18.979\n",
      "              Xian     2013-06-01      23.522\n",
      "              Xian     2013-07-01      25.251\n",
      "              Xian     2013-08-01      24.528\n",
      "              Xian     2013-09-01         NaN\n",
      "\n",
      "[16500 rows x 2 columns]\n"
     ]
    }
   ],
   "source": [
    "# Sort temperatures_ind by index values at the city level\n",
    "print(temperatures_ind.sort_index(level=\"city\"))"
   ]
  },
  {
   "cell_type": "code",
   "execution_count": 11,
   "id": "c62f0667",
   "metadata": {
    "execution": {
     "iopub.execute_input": "2024-10-05T10:56:53.785051Z",
     "iopub.status.busy": "2024-10-05T10:56:53.784498Z",
     "iopub.status.idle": "2024-10-05T10:56:53.801610Z",
     "shell.execute_reply": "2024-10-05T10:56:53.799522Z"
    },
    "papermill": {
     "duration": 0.03916,
     "end_time": "2024-10-05T10:56:53.805217",
     "exception": false,
     "start_time": "2024-10-05T10:56:53.766057",
     "status": "completed"
    },
    "tags": []
   },
   "outputs": [
    {
     "name": "stdout",
     "output_type": "stream",
     "text": [
      "                          date  avg_temp_c\n",
      "country     city                          \n",
      "Afghanistan Kabul   2000-01-01       3.326\n",
      "            Kabul   2000-02-01       3.454\n",
      "            Kabul   2000-03-01       9.612\n",
      "            Kabul   2000-04-01      17.925\n",
      "            Kabul   2000-05-01      24.658\n",
      "...                        ...         ...\n",
      "Zimbabwe    Harare  2013-05-01      18.298\n",
      "            Harare  2013-06-01      17.020\n",
      "            Harare  2013-07-01      16.299\n",
      "            Harare  2013-08-01      19.232\n",
      "            Harare  2013-09-01         NaN\n",
      "\n",
      "[16500 rows x 2 columns]\n"
     ]
    }
   ],
   "source": [
    "# Sort temperatures_ind by country then descending city\n",
    "print(temperatures_ind.sort_index(level=[\"country\", \"city\"], ascending = [True, False]))"
   ]
  },
  {
   "cell_type": "markdown",
   "id": "076e139d",
   "metadata": {
    "papermill": {
     "duration": 0.015213,
     "end_time": "2024-10-05T10:56:53.836747",
     "exception": false,
     "start_time": "2024-10-05T10:56:53.821534",
     "status": "completed"
    },
    "tags": []
   },
   "source": [
    "# Slicing and subsetting with .loc and .iloc\n"
   ]
  },
  {
   "cell_type": "markdown",
   "id": "2fa02abe",
   "metadata": {
    "papermill": {
     "duration": 0.014709,
     "end_time": "2024-10-05T10:56:53.866961",
     "exception": false,
     "start_time": "2024-10-05T10:56:53.852252",
     "status": "completed"
    },
    "tags": []
   },
   "source": [
    "## Slicing index values"
   ]
  },
  {
   "cell_type": "code",
   "execution_count": 12,
   "id": "58698f3c",
   "metadata": {
    "execution": {
     "iopub.execute_input": "2024-10-05T10:56:53.903909Z",
     "iopub.status.busy": "2024-10-05T10:56:53.903346Z",
     "iopub.status.idle": "2024-10-05T10:56:53.923900Z",
     "shell.execute_reply": "2024-10-05T10:56:53.922437Z"
    },
    "papermill": {
     "duration": 0.042909,
     "end_time": "2024-10-05T10:56:53.927431",
     "exception": false,
     "start_time": "2024-10-05T10:56:53.884522",
     "status": "completed"
    },
    "tags": []
   },
   "outputs": [
    {
     "name": "stdout",
     "output_type": "stream",
     "text": [
      "                                 date  avg_temp_c\n",
      "country  city                                    \n",
      "Pakistan Faisalabad        2000-01-01      12.792\n",
      "         Faisalabad        2000-02-01      14.339\n",
      "         Faisalabad        2000-03-01      20.309\n",
      "         Faisalabad        2000-04-01      29.072\n",
      "         Faisalabad        2000-05-01      34.845\n",
      "...                               ...         ...\n",
      "Russia   Saint Petersburg  2013-05-01      12.355\n",
      "         Saint Petersburg  2013-06-01      17.185\n",
      "         Saint Petersburg  2013-07-01      17.234\n",
      "         Saint Petersburg  2013-08-01      17.153\n",
      "         Saint Petersburg  2013-09-01         NaN\n",
      "\n",
      "[1155 rows x 2 columns]\n"
     ]
    }
   ],
   "source": [
    "# Sort the index of temperatures_ind\n",
    "temperatures_srt = temperatures_ind.sort_index()\n",
    "\n",
    "# Subset rows from Pakistan to Russia\n",
    "print(temperatures_srt.loc[\"Pakistan\":\"Russia\"])"
   ]
  },
  {
   "cell_type": "code",
   "execution_count": 13,
   "id": "f7768708",
   "metadata": {
    "execution": {
     "iopub.execute_input": "2024-10-05T10:56:53.963314Z",
     "iopub.status.busy": "2024-10-05T10:56:53.962463Z",
     "iopub.status.idle": "2024-10-05T10:56:53.978850Z",
     "shell.execute_reply": "2024-10-05T10:56:53.976768Z"
    },
    "papermill": {
     "duration": 0.039093,
     "end_time": "2024-10-05T10:56:53.982599",
     "exception": false,
     "start_time": "2024-10-05T10:56:53.943506",
     "status": "completed"
    },
    "tags": []
   },
   "outputs": [
    {
     "name": "stdout",
     "output_type": "stream",
     "text": [
      "                          date  avg_temp_c\n",
      "country city                              \n",
      "Mexico  Mexico      2000-01-01      12.694\n",
      "        Mexico      2000-02-01      14.677\n",
      "        Mexico      2000-03-01      17.376\n",
      "        Mexico      2000-04-01      18.294\n",
      "        Mexico      2000-05-01      18.562\n",
      "...                        ...         ...\n",
      "Morocco Casablanca  2013-05-01      19.217\n",
      "        Casablanca  2013-06-01      23.649\n",
      "        Casablanca  2013-07-01      27.488\n",
      "        Casablanca  2013-08-01      27.952\n",
      "        Casablanca  2013-09-01         NaN\n",
      "\n",
      "[330 rows x 2 columns]\n"
     ]
    }
   ],
   "source": [
    "# incorrect usage\n",
    "# Try to subset rows from Lahore to Moscow\n",
    "print(temperatures_srt.loc[\"Lahore\":\"Moscow\"])"
   ]
  },
  {
   "cell_type": "code",
   "execution_count": 14,
   "id": "e9c2c486",
   "metadata": {
    "execution": {
     "iopub.execute_input": "2024-10-05T10:56:54.022045Z",
     "iopub.status.busy": "2024-10-05T10:56:54.021462Z",
     "iopub.status.idle": "2024-10-05T10:56:54.039536Z",
     "shell.execute_reply": "2024-10-05T10:56:54.037768Z"
    },
    "papermill": {
     "duration": 0.044141,
     "end_time": "2024-10-05T10:56:54.043427",
     "exception": false,
     "start_time": "2024-10-05T10:56:53.999286",
     "status": "completed"
    },
    "tags": []
   },
   "outputs": [
    {
     "name": "stdout",
     "output_type": "stream",
     "text": [
      "                       date  avg_temp_c\n",
      "country  city                          \n",
      "Pakistan Lahore  2000-01-01      12.792\n",
      "         Lahore  2000-02-01      14.339\n",
      "         Lahore  2000-03-01      20.309\n",
      "         Lahore  2000-04-01      29.072\n",
      "         Lahore  2000-05-01      34.845\n",
      "...                     ...         ...\n",
      "Russia   Moscow  2013-05-01      16.152\n",
      "         Moscow  2013-06-01      18.718\n",
      "         Moscow  2013-07-01      18.136\n",
      "         Moscow  2013-08-01      17.485\n",
      "         Moscow  2013-09-01         NaN\n",
      "\n",
      "[660 rows x 2 columns]\n"
     ]
    }
   ],
   "source": [
    "# correct usage\n",
    "# Subset rows from Pakistan, Lahore to Russia, Moscow\n",
    "print(temperatures_srt.loc[(\"Pakistan\",\"Lahore\"):(\"Russia\",\"Moscow\")])"
   ]
  },
  {
   "cell_type": "markdown",
   "id": "b595b671",
   "metadata": {
    "papermill": {
     "duration": 0.017045,
     "end_time": "2024-10-05T10:56:54.078439",
     "exception": false,
     "start_time": "2024-10-05T10:56:54.061394",
     "status": "completed"
    },
    "tags": []
   },
   "source": [
    "## Slicing in both directions"
   ]
  },
  {
   "cell_type": "code",
   "execution_count": 15,
   "id": "61b8854f",
   "metadata": {
    "execution": {
     "iopub.execute_input": "2024-10-05T10:56:54.120248Z",
     "iopub.status.busy": "2024-10-05T10:56:54.119565Z",
     "iopub.status.idle": "2024-10-05T10:56:54.136422Z",
     "shell.execute_reply": "2024-10-05T10:56:54.133723Z"
    },
    "papermill": {
     "duration": 0.042238,
     "end_time": "2024-10-05T10:56:54.140133",
     "exception": false,
     "start_time": "2024-10-05T10:56:54.097895",
     "status": "completed"
    },
    "tags": []
   },
   "outputs": [
    {
     "name": "stdout",
     "output_type": "stream",
     "text": [
      "                         date  avg_temp_c\n",
      "country city                             \n",
      "India   Hyderabad  2000-01-01      23.779\n",
      "        Hyderabad  2000-02-01      25.826\n",
      "        Hyderabad  2000-03-01      28.821\n",
      "        Hyderabad  2000-04-01      32.698\n",
      "        Hyderabad  2000-05-01      32.438\n",
      "...                       ...         ...\n",
      "Iraq    Baghdad    2013-05-01      28.673\n",
      "        Baghdad    2013-06-01      33.803\n",
      "        Baghdad    2013-07-01      36.392\n",
      "        Baghdad    2013-08-01      35.463\n",
      "        Baghdad    2013-09-01         NaN\n",
      "\n",
      "[2145 rows x 2 columns]\n"
     ]
    }
   ],
   "source": [
    "# Subset rows from India, Hyderabad to Iraq, Baghdad\n",
    "print(temperatures_srt.loc[(\"India\",\"Hyderabad\"):(\"Iraq\",\"Baghdad\")])"
   ]
  },
  {
   "cell_type": "code",
   "execution_count": 16,
   "id": "5713e9d4",
   "metadata": {
    "execution": {
     "iopub.execute_input": "2024-10-05T10:56:54.178364Z",
     "iopub.status.busy": "2024-10-05T10:56:54.177740Z",
     "iopub.status.idle": "2024-10-05T10:56:54.194136Z",
     "shell.execute_reply": "2024-10-05T10:56:54.192485Z"
    },
    "papermill": {
     "duration": 0.038285,
     "end_time": "2024-10-05T10:56:54.197000",
     "exception": false,
     "start_time": "2024-10-05T10:56:54.158715",
     "status": "completed"
    },
    "tags": []
   },
   "outputs": [
    {
     "name": "stdout",
     "output_type": "stream",
     "text": [
      "                          date  avg_temp_c\n",
      "country     city                          \n",
      "Afghanistan Kabul   2000-01-01       3.326\n",
      "            Kabul   2000-02-01       3.454\n",
      "            Kabul   2000-03-01       9.612\n",
      "            Kabul   2000-04-01      17.925\n",
      "            Kabul   2000-05-01      24.658\n",
      "...                        ...         ...\n",
      "Zimbabwe    Harare  2013-05-01      18.298\n",
      "            Harare  2013-06-01      17.020\n",
      "            Harare  2013-07-01      16.299\n",
      "            Harare  2013-08-01      19.232\n",
      "            Harare  2013-09-01         NaN\n",
      "\n",
      "[16500 rows x 2 columns]\n"
     ]
    }
   ],
   "source": [
    "\n",
    "# Subset columns from date to avg_temp_c\n",
    "print(temperatures_srt.loc[:,\"date\":\"avg_temp_c\"])"
   ]
  },
  {
   "cell_type": "code",
   "execution_count": 17,
   "id": "4f2c48f4",
   "metadata": {
    "execution": {
     "iopub.execute_input": "2024-10-05T10:56:54.234912Z",
     "iopub.status.busy": "2024-10-05T10:56:54.234348Z",
     "iopub.status.idle": "2024-10-05T10:56:54.250995Z",
     "shell.execute_reply": "2024-10-05T10:56:54.249246Z"
    },
    "papermill": {
     "duration": 0.039767,
     "end_time": "2024-10-05T10:56:54.254401",
     "exception": false,
     "start_time": "2024-10-05T10:56:54.214634",
     "status": "completed"
    },
    "tags": []
   },
   "outputs": [
    {
     "name": "stdout",
     "output_type": "stream",
     "text": [
      "                         date  avg_temp_c\n",
      "country city                             \n",
      "India   Hyderabad  2000-01-01      23.779\n",
      "        Hyderabad  2000-02-01      25.826\n",
      "        Hyderabad  2000-03-01      28.821\n",
      "        Hyderabad  2000-04-01      32.698\n",
      "        Hyderabad  2000-05-01      32.438\n",
      "...                       ...         ...\n",
      "Iraq    Baghdad    2013-05-01      28.673\n",
      "        Baghdad    2013-06-01      33.803\n",
      "        Baghdad    2013-07-01      36.392\n",
      "        Baghdad    2013-08-01      35.463\n",
      "        Baghdad    2013-09-01         NaN\n",
      "\n",
      "[2145 rows x 2 columns]\n"
     ]
    }
   ],
   "source": [
    "# Subset in both directions at once\n",
    "print(\n",
    "    temperatures_srt.loc\n",
    "    [\n",
    "    (\"India\",\"Hyderabad\"):(\"Iraq\",\"Baghdad\"),\n",
    "    \"date\":\"avg_temp_c\"\n",
    "    ]\n",
    "    )"
   ]
  },
  {
   "cell_type": "markdown",
   "id": "10a7d828",
   "metadata": {
    "papermill": {
     "duration": 0.015701,
     "end_time": "2024-10-05T10:56:54.286218",
     "exception": false,
     "start_time": "2024-10-05T10:56:54.270517",
     "status": "completed"
    },
    "tags": []
   },
   "source": [
    "## Slicing time series"
   ]
  },
  {
   "cell_type": "code",
   "execution_count": 18,
   "id": "1229e38c",
   "metadata": {
    "execution": {
     "iopub.execute_input": "2024-10-05T10:56:54.325029Z",
     "iopub.status.busy": "2024-10-05T10:56:54.324447Z",
     "iopub.status.idle": "2024-10-05T10:56:54.345036Z",
     "shell.execute_reply": "2024-10-05T10:56:54.343211Z"
    },
    "papermill": {
     "duration": 0.044068,
     "end_time": "2024-10-05T10:56:54.348610",
     "exception": false,
     "start_time": "2024-10-05T10:56:54.304542",
     "status": "completed"
    },
    "tags": []
   },
   "outputs": [
    {
     "name": "stdout",
     "output_type": "stream",
     "text": [
      "             date     city        country  avg_temp_c\n",
      "120    2010-01-01  Abidjan  Côte D'Ivoire      28.270\n",
      "121    2010-02-01  Abidjan  Côte D'Ivoire      29.262\n",
      "122    2010-03-01  Abidjan  Côte D'Ivoire      29.596\n",
      "123    2010-04-01  Abidjan  Côte D'Ivoire      29.068\n",
      "124    2010-05-01  Abidjan  Côte D'Ivoire      28.258\n",
      "...           ...      ...            ...         ...\n",
      "16474  2011-08-01     Xian          China      23.069\n",
      "16475  2011-09-01     Xian          China      16.775\n",
      "16476  2011-10-01     Xian          China      12.587\n",
      "16477  2011-11-01     Xian          China       7.543\n",
      "16478  2011-12-01     Xian          China      -0.490\n",
      "\n",
      "[2400 rows x 4 columns]\n"
     ]
    }
   ],
   "source": [
    "# Use Boolean conditions to subset temperatures for rows in 2010 and 2011\n",
    "temperatures_bool = temperatures[(temperatures[\"date\"] >= \"2010-01-01\") & (temperatures[\"date\"] <= \"2011-12-31\")]\n",
    "print(temperatures_bool)"
   ]
  },
  {
   "cell_type": "code",
   "execution_count": 19,
   "id": "2b28e183",
   "metadata": {
    "execution": {
     "iopub.execute_input": "2024-10-05T10:56:54.384551Z",
     "iopub.status.busy": "2024-10-05T10:56:54.383043Z",
     "iopub.status.idle": "2024-10-05T10:56:54.416876Z",
     "shell.execute_reply": "2024-10-05T10:56:54.415294Z"
    },
    "papermill": {
     "duration": 0.055475,
     "end_time": "2024-10-05T10:56:54.420382",
     "exception": false,
     "start_time": "2024-10-05T10:56:54.364907",
     "status": "completed"
    },
    "tags": []
   },
   "outputs": [],
   "source": [
    "# Set date as the index and sort the index\n",
    "temperatures_ind = temperatures.set_index(\"date\").sort_index()"
   ]
  },
  {
   "cell_type": "code",
   "execution_count": 20,
   "id": "ad760c42",
   "metadata": {
    "execution": {
     "iopub.execute_input": "2024-10-05T10:56:54.462155Z",
     "iopub.status.busy": "2024-10-05T10:56:54.460441Z",
     "iopub.status.idle": "2024-10-05T10:56:54.478747Z",
     "shell.execute_reply": "2024-10-05T10:56:54.476921Z"
    },
    "papermill": {
     "duration": 0.043753,
     "end_time": "2024-10-05T10:56:54.482747",
     "exception": false,
     "start_time": "2024-10-05T10:56:54.438994",
     "status": "completed"
    },
    "tags": []
   },
   "outputs": [
    {
     "name": "stdout",
     "output_type": "stream",
     "text": [
      "                  city    country  avg_temp_c\n",
      "date                                         \n",
      "2010-01-01  Faisalabad   Pakistan      11.810\n",
      "2010-01-01   Melbourne  Australia      20.016\n",
      "2010-01-01   Chongqing      China       7.921\n",
      "2010-01-01   São Paulo     Brazil      23.738\n",
      "2010-01-01   Guangzhou      China      14.136\n",
      "...                ...        ...         ...\n",
      "2010-12-01     Jakarta  Indonesia      26.602\n",
      "2010-12-01       Gizeh      Egypt      16.530\n",
      "2010-12-01      Nagpur      India      19.120\n",
      "2010-12-01      Sydney  Australia      19.559\n",
      "2010-12-01    Salvador     Brazil      26.265\n",
      "\n",
      "[1200 rows x 3 columns]\n"
     ]
    }
   ],
   "source": [
    "# Use .loc[] to subset temperatures_ind for rows in 2010 and 2011\n",
    "print(temperatures_ind.loc[\"2010\":\"2011\"])"
   ]
  },
  {
   "cell_type": "code",
   "execution_count": 21,
   "id": "2e43d881",
   "metadata": {
    "execution": {
     "iopub.execute_input": "2024-10-05T10:56:54.520285Z",
     "iopub.status.busy": "2024-10-05T10:56:54.519670Z",
     "iopub.status.idle": "2024-10-05T10:56:54.533082Z",
     "shell.execute_reply": "2024-10-05T10:56:54.531649Z"
    },
    "papermill": {
     "duration": 0.035573,
     "end_time": "2024-10-05T10:56:54.536130",
     "exception": false,
     "start_time": "2024-10-05T10:56:54.500557",
     "status": "completed"
    },
    "tags": []
   },
   "outputs": [
    {
     "name": "stdout",
     "output_type": "stream",
     "text": [
      "                     city        country  avg_temp_c\n",
      "date                                                \n",
      "2010-08-01       Calcutta          India      30.226\n",
      "2010-08-01           Pune          India      24.941\n",
      "2010-08-01          Izmir         Turkey      28.352\n",
      "2010-08-01        Tianjin          China      25.543\n",
      "2010-08-01         Manila    Philippines      27.101\n",
      "...                   ...            ...         ...\n",
      "2011-01-01  Dar Es Salaam       Tanzania      28.541\n",
      "2011-01-01        Nairobi          Kenya      17.768\n",
      "2011-01-01    Addis Abeba       Ethiopia      17.708\n",
      "2011-01-01        Nanjing          China       0.144\n",
      "2011-01-01       New York  United States      -4.463\n",
      "\n",
      "[600 rows x 3 columns]\n"
     ]
    }
   ],
   "source": [
    "# Use .loc[] to subset temperatures_ind for rows from Aug 2010 to Feb 2011\n",
    "print(temperatures_ind.loc[\"2010-08\":\"2011-02\"])"
   ]
  },
  {
   "cell_type": "markdown",
   "id": "5d1aca97",
   "metadata": {
    "papermill": {
     "duration": 0.016053,
     "end_time": "2024-10-05T10:56:54.569625",
     "exception": false,
     "start_time": "2024-10-05T10:56:54.553572",
     "status": "completed"
    },
    "tags": []
   },
   "source": [
    "## Subsetting by row/column number"
   ]
  },
  {
   "cell_type": "code",
   "execution_count": 22,
   "id": "5b72e752",
   "metadata": {
    "execution": {
     "iopub.execute_input": "2024-10-05T10:56:54.604924Z",
     "iopub.status.busy": "2024-10-05T10:56:54.604424Z",
     "iopub.status.idle": "2024-10-05T10:56:54.616969Z",
     "shell.execute_reply": "2024-10-05T10:56:54.615543Z"
    },
    "papermill": {
     "duration": 0.034019,
     "end_time": "2024-10-05T10:56:54.620350",
     "exception": false,
     "start_time": "2024-10-05T10:56:54.586331",
     "status": "completed"
    },
    "tags": []
   },
   "outputs": [
    {
     "name": "stdout",
     "output_type": "stream",
     "text": [
      "          date     city\n",
      "0   2000-01-01  Abidjan\n",
      "1   2000-02-01  Abidjan\n",
      "2   2000-03-01  Abidjan\n",
      "3   2000-04-01  Abidjan\n",
      "4   2000-05-01  Abidjan\n",
      "5   2000-06-01  Abidjan\n",
      "6   2000-07-01  Abidjan\n",
      "7   2000-08-01  Abidjan\n",
      "8   2000-09-01  Abidjan\n",
      "9   2000-10-01  Abidjan\n",
      "10  2000-11-01  Abidjan\n",
      "11  2000-12-01  Abidjan\n",
      "12  2001-01-01  Abidjan\n",
      "13  2001-02-01  Abidjan\n",
      "14  2001-03-01  Abidjan\n",
      "15  2001-04-01  Abidjan\n",
      "16  2001-05-01  Abidjan\n",
      "17  2001-06-01  Abidjan\n",
      "18  2001-07-01  Abidjan\n",
      "19  2001-08-01  Abidjan\n",
      "20  2001-09-01  Abidjan\n",
      "21  2001-10-01  Abidjan\n",
      "22  2001-11-01  Abidjan\n"
     ]
    }
   ],
   "source": [
    "# Get 23rd row, 2nd column (index 22, 1)\n",
    "print(temperatures.iloc[:23, :2])"
   ]
  },
  {
   "cell_type": "code",
   "execution_count": 23,
   "id": "0c6af2f6",
   "metadata": {
    "execution": {
     "iopub.execute_input": "2024-10-05T10:56:54.655681Z",
     "iopub.status.busy": "2024-10-05T10:56:54.655110Z",
     "iopub.status.idle": "2024-10-05T10:56:54.666742Z",
     "shell.execute_reply": "2024-10-05T10:56:54.665239Z"
    },
    "papermill": {
     "duration": 0.033539,
     "end_time": "2024-10-05T10:56:54.670205",
     "exception": false,
     "start_time": "2024-10-05T10:56:54.636666",
     "status": "completed"
    },
    "tags": []
   },
   "outputs": [
    {
     "name": "stdout",
     "output_type": "stream",
     "text": [
      "         date     city        country  avg_temp_c\n",
      "0  2000-01-01  Abidjan  Côte D'Ivoire      27.293\n",
      "1  2000-02-01  Abidjan  Côte D'Ivoire      27.685\n",
      "2  2000-03-01  Abidjan  Côte D'Ivoire      29.061\n",
      "3  2000-04-01  Abidjan  Côte D'Ivoire      28.162\n",
      "4  2000-05-01  Abidjan  Côte D'Ivoire      27.547\n"
     ]
    }
   ],
   "source": [
    "# Use slicing to get the first 5 rows\n",
    "print(temperatures.iloc[:5])"
   ]
  },
  {
   "cell_type": "code",
   "execution_count": 24,
   "id": "050efdb9",
   "metadata": {
    "execution": {
     "iopub.execute_input": "2024-10-05T10:56:54.708955Z",
     "iopub.status.busy": "2024-10-05T10:56:54.707933Z",
     "iopub.status.idle": "2024-10-05T10:56:54.719829Z",
     "shell.execute_reply": "2024-10-05T10:56:54.718211Z"
    },
    "papermill": {
     "duration": 0.034,
     "end_time": "2024-10-05T10:56:54.723325",
     "exception": false,
     "start_time": "2024-10-05T10:56:54.689325",
     "status": "completed"
    },
    "tags": []
   },
   "outputs": [
    {
     "name": "stdout",
     "output_type": "stream",
     "text": [
      "             country  avg_temp_c\n",
      "0      Côte D'Ivoire      27.293\n",
      "1      Côte D'Ivoire      27.685\n",
      "2      Côte D'Ivoire      29.061\n",
      "3      Côte D'Ivoire      28.162\n",
      "4      Côte D'Ivoire      27.547\n",
      "...              ...         ...\n",
      "16495          China      18.979\n",
      "16496          China      23.522\n",
      "16497          China      25.251\n",
      "16498          China      24.528\n",
      "16499          China         NaN\n",
      "\n",
      "[16500 rows x 2 columns]\n"
     ]
    }
   ],
   "source": [
    "# Use slicing to get columns 3 to 4\n",
    "print(temperatures.iloc[:,2:4])"
   ]
  },
  {
   "cell_type": "code",
   "execution_count": 25,
   "id": "ede55730",
   "metadata": {
    "execution": {
     "iopub.execute_input": "2024-10-05T10:56:54.760323Z",
     "iopub.status.busy": "2024-10-05T10:56:54.759734Z",
     "iopub.status.idle": "2024-10-05T10:56:54.771065Z",
     "shell.execute_reply": "2024-10-05T10:56:54.769701Z"
    },
    "papermill": {
     "duration": 0.03319,
     "end_time": "2024-10-05T10:56:54.774170",
     "exception": false,
     "start_time": "2024-10-05T10:56:54.740980",
     "status": "completed"
    },
    "tags": []
   },
   "outputs": [
    {
     "name": "stdout",
     "output_type": "stream",
     "text": [
      "         country  avg_temp_c\n",
      "0  Côte D'Ivoire      27.293\n",
      "1  Côte D'Ivoire      27.685\n",
      "2  Côte D'Ivoire      29.061\n",
      "3  Côte D'Ivoire      28.162\n",
      "4  Côte D'Ivoire      27.547\n"
     ]
    }
   ],
   "source": [
    "# Use slicing in both directions at once\n",
    "print(temperatures.iloc[:5,2:4])"
   ]
  },
  {
   "cell_type": "markdown",
   "id": "74d9b70c",
   "metadata": {
    "papermill": {
     "duration": 0.016471,
     "end_time": "2024-10-05T10:56:54.810621",
     "exception": false,
     "start_time": "2024-10-05T10:56:54.794150",
     "status": "completed"
    },
    "tags": []
   },
   "source": [
    "# Working with pivot tables"
   ]
  },
  {
   "cell_type": "markdown",
   "id": "a2ca867a",
   "metadata": {
    "papermill": {
     "duration": 0.016993,
     "end_time": "2024-10-05T10:56:54.844645",
     "exception": false,
     "start_time": "2024-10-05T10:56:54.827652",
     "status": "completed"
    },
    "tags": []
   },
   "source": [
    "## Pivot temperature by city and year"
   ]
  },
  {
   "cell_type": "code",
   "execution_count": 26,
   "id": "073bb97c",
   "metadata": {
    "execution": {
     "iopub.execute_input": "2024-10-05T10:56:54.882726Z",
     "iopub.status.busy": "2024-10-05T10:56:54.882150Z",
     "iopub.status.idle": "2024-10-05T10:56:54.942761Z",
     "shell.execute_reply": "2024-10-05T10:56:54.941246Z"
    },
    "papermill": {
     "duration": 0.084428,
     "end_time": "2024-10-05T10:56:54.946760",
     "exception": false,
     "start_time": "2024-10-05T10:56:54.862332",
     "status": "completed"
    },
    "tags": []
   },
   "outputs": [
    {
     "name": "stdout",
     "output_type": "stream",
     "text": [
      "year                                 2000       2001       2002       2003  \\\n",
      "country       city                                                           \n",
      "Afghanistan   Kabul             15.822667  15.847917  15.714583  15.132583   \n",
      "Angola        Luanda            24.410333  24.427083  24.790917  24.867167   \n",
      "Australia     Melbourne         14.320083  14.180000  14.075833  13.985583   \n",
      "              Sydney            17.567417  17.854500  17.733833  17.592333   \n",
      "Bangladesh    Dhaka             25.905250  25.931250  26.095000  25.927417   \n",
      "...                                   ...        ...        ...        ...   \n",
      "United States Chicago           11.089667  11.703083  11.532083  10.481583   \n",
      "              Los Angeles       16.643333  16.466250  16.430250  16.944667   \n",
      "              New York           9.969083  10.931000  11.252167   9.836000   \n",
      "Vietnam       Ho Chi Minh City  27.588917  27.831750  28.064750  27.827667   \n",
      "Zimbabwe      Harare            20.283667  20.861000  21.079333  20.889167   \n",
      "\n",
      "year                                 2004       2005       2006       2007  \\\n",
      "country       city                                                           \n",
      "Afghanistan   Kabul             16.128417  14.847500  15.798500  15.518000   \n",
      "Angola        Luanda            24.216167  24.414583  24.138417  24.241583   \n",
      "Australia     Melbourne         13.742083  14.378500  13.991083  14.991833   \n",
      "              Sydney            17.869667  18.028083  17.749500  18.020833   \n",
      "Bangladesh    Dhaka             26.136083  26.193333  26.440417  25.951333   \n",
      "...                                   ...        ...        ...        ...   \n",
      "United States Chicago           10.943417  11.583833  11.870500  11.448333   \n",
      "              Los Angeles       16.552833  16.431417  16.623083  16.699917   \n",
      "              New York          10.389500  10.681417  11.519250  10.627333   \n",
      "Vietnam       Ho Chi Minh City  27.686583  27.884000  28.044000  27.866667   \n",
      "Zimbabwe      Harare            20.307667  21.487417  20.699750  20.746250   \n",
      "\n",
      "year                                 2008       2009       2010       2011  \\\n",
      "country       city                                                           \n",
      "Afghanistan   Kabul             15.479250  15.093333  15.676000  15.812167   \n",
      "Angola        Luanda            24.266333  24.325083  24.440250  24.150750   \n",
      "Australia     Melbourne         14.110583  14.647417  14.231667  14.190917   \n",
      "              Sydney            17.321083  18.175833  17.999000  17.713333   \n",
      "Bangladesh    Dhaka             26.004500  26.535583  26.648167  25.803250   \n",
      "...                                   ...        ...        ...        ...   \n",
      "United States Chicago           10.242417  10.298333  11.815917  11.214250   \n",
      "              Los Angeles       17.014750  16.677000  15.887000  15.874833   \n",
      "              New York          10.641667  10.141833  11.357583  11.272250   \n",
      "Vietnam       Ho Chi Minh City  27.611417  27.853333  28.281750  27.675417   \n",
      "Zimbabwe      Harare            20.680500  20.523833  21.165833  20.781750   \n",
      "\n",
      "year                                 2012       2013  \n",
      "country       city                                    \n",
      "Afghanistan   Kabul             14.510333  16.206125  \n",
      "Angola        Luanda            24.240083  24.553875  \n",
      "Australia     Melbourne         14.268667  14.741500  \n",
      "              Sydney            17.474333  18.089750  \n",
      "Bangladesh    Dhaka             26.283583  26.587000  \n",
      "...                                   ...        ...  \n",
      "United States Chicago           12.821250  11.586889  \n",
      "              Los Angeles       17.089583  18.120667  \n",
      "              New York          11.971500  12.163889  \n",
      "Vietnam       Ho Chi Minh City  28.248750  28.455000  \n",
      "Zimbabwe      Harare            20.523333  19.756500  \n",
      "\n",
      "[100 rows x 14 columns]\n"
     ]
    }
   ],
   "source": [
    "temperatures[\"date\"] = pd.to_datetime(temperatures[\"date\"], errors='coerce')\n",
    "\n",
    "# Add a year column to temperatures\n",
    "temperatures[\"year\"] = temperatures[\"date\"].dt.year\n",
    "\n",
    "# Pivot avg_temp_c by country and city vs year\n",
    "temp_by_country_city_vs_year = temperatures.pivot_table(\"avg_temp_c\", index = [\"country\", \"city\"], columns = \"year\")\n",
    "\n",
    "# See the result\n",
    "print(temp_by_country_city_vs_year)"
   ]
  },
  {
   "cell_type": "markdown",
   "id": "d102630e",
   "metadata": {
    "papermill": {
     "duration": 0.018565,
     "end_time": "2024-10-05T10:56:54.982730",
     "exception": false,
     "start_time": "2024-10-05T10:56:54.964165",
     "status": "completed"
    },
    "tags": []
   },
   "source": [
    "## Subsetting pivot tables"
   ]
  },
  {
   "cell_type": "code",
   "execution_count": 27,
   "id": "be4407fc",
   "metadata": {
    "execution": {
     "iopub.execute_input": "2024-10-05T10:56:55.022057Z",
     "iopub.status.busy": "2024-10-05T10:56:55.021445Z",
     "iopub.status.idle": "2024-10-05T10:56:55.066916Z",
     "shell.execute_reply": "2024-10-05T10:56:55.065558Z"
    },
    "papermill": {
     "duration": 0.069525,
     "end_time": "2024-10-05T10:56:55.070123",
     "exception": false,
     "start_time": "2024-10-05T10:56:55.000598",
     "status": "completed"
    },
    "tags": []
   },
   "outputs": [
    {
     "data": {
      "text/html": [
       "<div>\n",
       "<style scoped>\n",
       "    .dataframe tbody tr th:only-of-type {\n",
       "        vertical-align: middle;\n",
       "    }\n",
       "\n",
       "    .dataframe tbody tr th {\n",
       "        vertical-align: top;\n",
       "    }\n",
       "\n",
       "    .dataframe thead th {\n",
       "        text-align: right;\n",
       "    }\n",
       "</style>\n",
       "<table border=\"1\" class=\"dataframe\">\n",
       "  <thead>\n",
       "    <tr style=\"text-align: right;\">\n",
       "      <th></th>\n",
       "      <th>year</th>\n",
       "      <th>2000</th>\n",
       "      <th>2001</th>\n",
       "      <th>2002</th>\n",
       "      <th>2003</th>\n",
       "      <th>2004</th>\n",
       "      <th>2005</th>\n",
       "      <th>2006</th>\n",
       "      <th>2007</th>\n",
       "      <th>2008</th>\n",
       "      <th>2009</th>\n",
       "      <th>2010</th>\n",
       "      <th>2011</th>\n",
       "      <th>2012</th>\n",
       "      <th>2013</th>\n",
       "    </tr>\n",
       "    <tr>\n",
       "      <th>country</th>\n",
       "      <th>city</th>\n",
       "      <th></th>\n",
       "      <th></th>\n",
       "      <th></th>\n",
       "      <th></th>\n",
       "      <th></th>\n",
       "      <th></th>\n",
       "      <th></th>\n",
       "      <th></th>\n",
       "      <th></th>\n",
       "      <th></th>\n",
       "      <th></th>\n",
       "      <th></th>\n",
       "      <th></th>\n",
       "      <th></th>\n",
       "    </tr>\n",
       "  </thead>\n",
       "  <tbody>\n",
       "    <tr>\n",
       "      <th rowspan=\"3\" valign=\"top\">Egypt</th>\n",
       "      <th>Alexandria</th>\n",
       "      <td>20.744500</td>\n",
       "      <td>21.454583</td>\n",
       "      <td>21.456167</td>\n",
       "      <td>21.221417</td>\n",
       "      <td>21.064167</td>\n",
       "      <td>21.082333</td>\n",
       "      <td>21.148167</td>\n",
       "      <td>21.507750</td>\n",
       "      <td>21.739000</td>\n",
       "      <td>21.670500</td>\n",
       "      <td>22.459583</td>\n",
       "      <td>21.181500</td>\n",
       "      <td>21.552583</td>\n",
       "      <td>21.438500</td>\n",
       "    </tr>\n",
       "    <tr>\n",
       "      <th>Cairo</th>\n",
       "      <td>21.486167</td>\n",
       "      <td>22.330833</td>\n",
       "      <td>22.414083</td>\n",
       "      <td>22.170500</td>\n",
       "      <td>22.081917</td>\n",
       "      <td>22.006500</td>\n",
       "      <td>22.050000</td>\n",
       "      <td>22.361000</td>\n",
       "      <td>22.644500</td>\n",
       "      <td>22.625000</td>\n",
       "      <td>23.718250</td>\n",
       "      <td>21.986917</td>\n",
       "      <td>22.484250</td>\n",
       "      <td>22.907000</td>\n",
       "    </tr>\n",
       "    <tr>\n",
       "      <th>Gizeh</th>\n",
       "      <td>21.486167</td>\n",
       "      <td>22.330833</td>\n",
       "      <td>22.414083</td>\n",
       "      <td>22.170500</td>\n",
       "      <td>22.081917</td>\n",
       "      <td>22.006500</td>\n",
       "      <td>22.050000</td>\n",
       "      <td>22.361000</td>\n",
       "      <td>22.644500</td>\n",
       "      <td>22.625000</td>\n",
       "      <td>23.718250</td>\n",
       "      <td>21.986917</td>\n",
       "      <td>22.484250</td>\n",
       "      <td>22.907000</td>\n",
       "    </tr>\n",
       "    <tr>\n",
       "      <th>Ethiopia</th>\n",
       "      <th>Addis Abeba</th>\n",
       "      <td>18.241250</td>\n",
       "      <td>18.296417</td>\n",
       "      <td>18.469750</td>\n",
       "      <td>18.320917</td>\n",
       "      <td>18.292750</td>\n",
       "      <td>18.312833</td>\n",
       "      <td>18.427083</td>\n",
       "      <td>18.142583</td>\n",
       "      <td>18.165000</td>\n",
       "      <td>18.765333</td>\n",
       "      <td>18.298250</td>\n",
       "      <td>18.606750</td>\n",
       "      <td>18.448583</td>\n",
       "      <td>19.539000</td>\n",
       "    </tr>\n",
       "    <tr>\n",
       "      <th>France</th>\n",
       "      <th>Paris</th>\n",
       "      <td>11.739667</td>\n",
       "      <td>11.371250</td>\n",
       "      <td>11.871333</td>\n",
       "      <td>11.909500</td>\n",
       "      <td>11.338833</td>\n",
       "      <td>11.552917</td>\n",
       "      <td>11.788500</td>\n",
       "      <td>11.750833</td>\n",
       "      <td>11.278250</td>\n",
       "      <td>11.464083</td>\n",
       "      <td>10.409833</td>\n",
       "      <td>12.325750</td>\n",
       "      <td>11.219917</td>\n",
       "      <td>11.011625</td>\n",
       "    </tr>\n",
       "    <tr>\n",
       "      <th>Germany</th>\n",
       "      <th>Berlin</th>\n",
       "      <td>10.963667</td>\n",
       "      <td>9.690250</td>\n",
       "      <td>10.264417</td>\n",
       "      <td>10.065750</td>\n",
       "      <td>9.822583</td>\n",
       "      <td>9.919083</td>\n",
       "      <td>10.545333</td>\n",
       "      <td>10.883167</td>\n",
       "      <td>10.657750</td>\n",
       "      <td>10.062500</td>\n",
       "      <td>8.606833</td>\n",
       "      <td>10.556417</td>\n",
       "      <td>9.964333</td>\n",
       "      <td>10.121500</td>\n",
       "    </tr>\n",
       "    <tr>\n",
       "      <th rowspan=\"14\" valign=\"top\">India</th>\n",
       "      <th>Ahmadabad</th>\n",
       "      <td>27.436000</td>\n",
       "      <td>27.198083</td>\n",
       "      <td>27.719083</td>\n",
       "      <td>27.403833</td>\n",
       "      <td>27.628333</td>\n",
       "      <td>26.828083</td>\n",
       "      <td>27.282833</td>\n",
       "      <td>27.511167</td>\n",
       "      <td>27.048500</td>\n",
       "      <td>28.095833</td>\n",
       "      <td>28.017833</td>\n",
       "      <td>27.290417</td>\n",
       "      <td>27.027250</td>\n",
       "      <td>27.608625</td>\n",
       "    </tr>\n",
       "    <tr>\n",
       "      <th>Bangalore</th>\n",
       "      <td>25.337917</td>\n",
       "      <td>25.528167</td>\n",
       "      <td>25.755333</td>\n",
       "      <td>25.924750</td>\n",
       "      <td>25.252083</td>\n",
       "      <td>25.476500</td>\n",
       "      <td>25.418250</td>\n",
       "      <td>25.464333</td>\n",
       "      <td>25.352583</td>\n",
       "      <td>25.725750</td>\n",
       "      <td>25.705250</td>\n",
       "      <td>25.362083</td>\n",
       "      <td>26.042333</td>\n",
       "      <td>26.610500</td>\n",
       "    </tr>\n",
       "    <tr>\n",
       "      <th>Bombay</th>\n",
       "      <td>27.203667</td>\n",
       "      <td>27.243667</td>\n",
       "      <td>27.628667</td>\n",
       "      <td>27.578417</td>\n",
       "      <td>27.318750</td>\n",
       "      <td>27.035750</td>\n",
       "      <td>27.381500</td>\n",
       "      <td>27.634667</td>\n",
       "      <td>27.177750</td>\n",
       "      <td>27.844500</td>\n",
       "      <td>27.765417</td>\n",
       "      <td>27.384917</td>\n",
       "      <td>27.192500</td>\n",
       "      <td>26.713000</td>\n",
       "    </tr>\n",
       "    <tr>\n",
       "      <th>Calcutta</th>\n",
       "      <td>26.491333</td>\n",
       "      <td>26.515167</td>\n",
       "      <td>26.703917</td>\n",
       "      <td>26.561333</td>\n",
       "      <td>26.634333</td>\n",
       "      <td>26.729167</td>\n",
       "      <td>26.986250</td>\n",
       "      <td>26.584583</td>\n",
       "      <td>26.522333</td>\n",
       "      <td>27.153250</td>\n",
       "      <td>27.288833</td>\n",
       "      <td>26.406917</td>\n",
       "      <td>26.935083</td>\n",
       "      <td>27.369250</td>\n",
       "    </tr>\n",
       "    <tr>\n",
       "      <th>Delhi</th>\n",
       "      <td>26.048333</td>\n",
       "      <td>25.862917</td>\n",
       "      <td>26.634333</td>\n",
       "      <td>25.721083</td>\n",
       "      <td>26.239917</td>\n",
       "      <td>25.716083</td>\n",
       "      <td>26.365917</td>\n",
       "      <td>26.145667</td>\n",
       "      <td>25.675000</td>\n",
       "      <td>26.554250</td>\n",
       "      <td>26.520250</td>\n",
       "      <td>25.629500</td>\n",
       "      <td>25.889417</td>\n",
       "      <td>26.709250</td>\n",
       "    </tr>\n",
       "    <tr>\n",
       "      <th>Hyderabad</th>\n",
       "      <td>27.231833</td>\n",
       "      <td>27.555167</td>\n",
       "      <td>27.665167</td>\n",
       "      <td>27.844583</td>\n",
       "      <td>27.228500</td>\n",
       "      <td>27.488833</td>\n",
       "      <td>27.471000</td>\n",
       "      <td>27.545333</td>\n",
       "      <td>27.446667</td>\n",
       "      <td>28.026500</td>\n",
       "      <td>27.693417</td>\n",
       "      <td>27.408833</td>\n",
       "      <td>28.018583</td>\n",
       "      <td>28.851250</td>\n",
       "    </tr>\n",
       "    <tr>\n",
       "      <th>Jaipur</th>\n",
       "      <td>26.430250</td>\n",
       "      <td>26.023000</td>\n",
       "      <td>27.031667</td>\n",
       "      <td>26.027417</td>\n",
       "      <td>26.642167</td>\n",
       "      <td>25.772250</td>\n",
       "      <td>26.429833</td>\n",
       "      <td>26.267000</td>\n",
       "      <td>25.877583</td>\n",
       "      <td>26.919500</td>\n",
       "      <td>26.818417</td>\n",
       "      <td>25.916500</td>\n",
       "      <td>25.884500</td>\n",
       "      <td>26.844125</td>\n",
       "    </tr>\n",
       "    <tr>\n",
       "      <th>Kanpur</th>\n",
       "      <td>25.353917</td>\n",
       "      <td>25.326500</td>\n",
       "      <td>26.116833</td>\n",
       "      <td>25.409083</td>\n",
       "      <td>25.586500</td>\n",
       "      <td>25.621500</td>\n",
       "      <td>25.848833</td>\n",
       "      <td>25.436083</td>\n",
       "      <td>25.109750</td>\n",
       "      <td>25.987083</td>\n",
       "      <td>26.021750</td>\n",
       "      <td>25.062083</td>\n",
       "      <td>25.445417</td>\n",
       "      <td>26.121250</td>\n",
       "    </tr>\n",
       "    <tr>\n",
       "      <th>Lakhnau</th>\n",
       "      <td>25.353917</td>\n",
       "      <td>25.326500</td>\n",
       "      <td>26.116833</td>\n",
       "      <td>25.409083</td>\n",
       "      <td>25.586500</td>\n",
       "      <td>25.621500</td>\n",
       "      <td>25.848833</td>\n",
       "      <td>25.436083</td>\n",
       "      <td>25.109750</td>\n",
       "      <td>25.987083</td>\n",
       "      <td>26.021750</td>\n",
       "      <td>25.062083</td>\n",
       "      <td>25.445417</td>\n",
       "      <td>26.121250</td>\n",
       "    </tr>\n",
       "    <tr>\n",
       "      <th>Madras</th>\n",
       "      <td>28.811667</td>\n",
       "      <td>29.162917</td>\n",
       "      <td>29.246500</td>\n",
       "      <td>29.273083</td>\n",
       "      <td>28.810917</td>\n",
       "      <td>29.099417</td>\n",
       "      <td>29.073250</td>\n",
       "      <td>28.970167</td>\n",
       "      <td>29.024083</td>\n",
       "      <td>29.417417</td>\n",
       "      <td>29.047333</td>\n",
       "      <td>29.063167</td>\n",
       "      <td>29.778417</td>\n",
       "      <td>30.411750</td>\n",
       "    </tr>\n",
       "    <tr>\n",
       "      <th>Nagpur</th>\n",
       "      <td>26.181417</td>\n",
       "      <td>26.321667</td>\n",
       "      <td>26.753000</td>\n",
       "      <td>26.503833</td>\n",
       "      <td>26.406333</td>\n",
       "      <td>26.229167</td>\n",
       "      <td>26.374833</td>\n",
       "      <td>26.393667</td>\n",
       "      <td>26.188000</td>\n",
       "      <td>27.138917</td>\n",
       "      <td>26.927000</td>\n",
       "      <td>26.004667</td>\n",
       "      <td>26.327917</td>\n",
       "      <td>27.112375</td>\n",
       "    </tr>\n",
       "    <tr>\n",
       "      <th>New Delhi</th>\n",
       "      <td>26.048333</td>\n",
       "      <td>25.862917</td>\n",
       "      <td>26.634333</td>\n",
       "      <td>25.721083</td>\n",
       "      <td>26.239917</td>\n",
       "      <td>25.716083</td>\n",
       "      <td>26.365917</td>\n",
       "      <td>26.145667</td>\n",
       "      <td>25.675000</td>\n",
       "      <td>26.554250</td>\n",
       "      <td>26.520250</td>\n",
       "      <td>25.629500</td>\n",
       "      <td>25.889417</td>\n",
       "      <td>26.709250</td>\n",
       "    </tr>\n",
       "    <tr>\n",
       "      <th>Pune</th>\n",
       "      <td>25.110917</td>\n",
       "      <td>25.337833</td>\n",
       "      <td>25.583000</td>\n",
       "      <td>25.748417</td>\n",
       "      <td>25.316167</td>\n",
       "      <td>25.085583</td>\n",
       "      <td>25.310167</td>\n",
       "      <td>25.584833</td>\n",
       "      <td>25.230250</td>\n",
       "      <td>25.868250</td>\n",
       "      <td>25.749167</td>\n",
       "      <td>25.161417</td>\n",
       "      <td>25.296833</td>\n",
       "      <td>25.847625</td>\n",
       "    </tr>\n",
       "    <tr>\n",
       "      <th>Surat</th>\n",
       "      <td>27.029000</td>\n",
       "      <td>26.897250</td>\n",
       "      <td>27.347750</td>\n",
       "      <td>27.230917</td>\n",
       "      <td>27.290583</td>\n",
       "      <td>26.724500</td>\n",
       "      <td>27.149417</td>\n",
       "      <td>27.311750</td>\n",
       "      <td>26.828750</td>\n",
       "      <td>27.819833</td>\n",
       "      <td>27.681667</td>\n",
       "      <td>27.016583</td>\n",
       "      <td>26.889250</td>\n",
       "      <td>27.437750</td>\n",
       "    </tr>\n",
       "  </tbody>\n",
       "</table>\n",
       "</div>"
      ],
      "text/plain": [
       "year                       2000       2001       2002       2003       2004  \\\n",
       "country  city                                                                 \n",
       "Egypt    Alexandria   20.744500  21.454583  21.456167  21.221417  21.064167   \n",
       "         Cairo        21.486167  22.330833  22.414083  22.170500  22.081917   \n",
       "         Gizeh        21.486167  22.330833  22.414083  22.170500  22.081917   \n",
       "Ethiopia Addis Abeba  18.241250  18.296417  18.469750  18.320917  18.292750   \n",
       "France   Paris        11.739667  11.371250  11.871333  11.909500  11.338833   \n",
       "Germany  Berlin       10.963667   9.690250  10.264417  10.065750   9.822583   \n",
       "India    Ahmadabad    27.436000  27.198083  27.719083  27.403833  27.628333   \n",
       "         Bangalore    25.337917  25.528167  25.755333  25.924750  25.252083   \n",
       "         Bombay       27.203667  27.243667  27.628667  27.578417  27.318750   \n",
       "         Calcutta     26.491333  26.515167  26.703917  26.561333  26.634333   \n",
       "         Delhi        26.048333  25.862917  26.634333  25.721083  26.239917   \n",
       "         Hyderabad    27.231833  27.555167  27.665167  27.844583  27.228500   \n",
       "         Jaipur       26.430250  26.023000  27.031667  26.027417  26.642167   \n",
       "         Kanpur       25.353917  25.326500  26.116833  25.409083  25.586500   \n",
       "         Lakhnau      25.353917  25.326500  26.116833  25.409083  25.586500   \n",
       "         Madras       28.811667  29.162917  29.246500  29.273083  28.810917   \n",
       "         Nagpur       26.181417  26.321667  26.753000  26.503833  26.406333   \n",
       "         New Delhi    26.048333  25.862917  26.634333  25.721083  26.239917   \n",
       "         Pune         25.110917  25.337833  25.583000  25.748417  25.316167   \n",
       "         Surat        27.029000  26.897250  27.347750  27.230917  27.290583   \n",
       "\n",
       "year                       2005       2006       2007       2008       2009  \\\n",
       "country  city                                                                 \n",
       "Egypt    Alexandria   21.082333  21.148167  21.507750  21.739000  21.670500   \n",
       "         Cairo        22.006500  22.050000  22.361000  22.644500  22.625000   \n",
       "         Gizeh        22.006500  22.050000  22.361000  22.644500  22.625000   \n",
       "Ethiopia Addis Abeba  18.312833  18.427083  18.142583  18.165000  18.765333   \n",
       "France   Paris        11.552917  11.788500  11.750833  11.278250  11.464083   \n",
       "Germany  Berlin        9.919083  10.545333  10.883167  10.657750  10.062500   \n",
       "India    Ahmadabad    26.828083  27.282833  27.511167  27.048500  28.095833   \n",
       "         Bangalore    25.476500  25.418250  25.464333  25.352583  25.725750   \n",
       "         Bombay       27.035750  27.381500  27.634667  27.177750  27.844500   \n",
       "         Calcutta     26.729167  26.986250  26.584583  26.522333  27.153250   \n",
       "         Delhi        25.716083  26.365917  26.145667  25.675000  26.554250   \n",
       "         Hyderabad    27.488833  27.471000  27.545333  27.446667  28.026500   \n",
       "         Jaipur       25.772250  26.429833  26.267000  25.877583  26.919500   \n",
       "         Kanpur       25.621500  25.848833  25.436083  25.109750  25.987083   \n",
       "         Lakhnau      25.621500  25.848833  25.436083  25.109750  25.987083   \n",
       "         Madras       29.099417  29.073250  28.970167  29.024083  29.417417   \n",
       "         Nagpur       26.229167  26.374833  26.393667  26.188000  27.138917   \n",
       "         New Delhi    25.716083  26.365917  26.145667  25.675000  26.554250   \n",
       "         Pune         25.085583  25.310167  25.584833  25.230250  25.868250   \n",
       "         Surat        26.724500  27.149417  27.311750  26.828750  27.819833   \n",
       "\n",
       "year                       2010       2011       2012       2013  \n",
       "country  city                                                     \n",
       "Egypt    Alexandria   22.459583  21.181500  21.552583  21.438500  \n",
       "         Cairo        23.718250  21.986917  22.484250  22.907000  \n",
       "         Gizeh        23.718250  21.986917  22.484250  22.907000  \n",
       "Ethiopia Addis Abeba  18.298250  18.606750  18.448583  19.539000  \n",
       "France   Paris        10.409833  12.325750  11.219917  11.011625  \n",
       "Germany  Berlin        8.606833  10.556417   9.964333  10.121500  \n",
       "India    Ahmadabad    28.017833  27.290417  27.027250  27.608625  \n",
       "         Bangalore    25.705250  25.362083  26.042333  26.610500  \n",
       "         Bombay       27.765417  27.384917  27.192500  26.713000  \n",
       "         Calcutta     27.288833  26.406917  26.935083  27.369250  \n",
       "         Delhi        26.520250  25.629500  25.889417  26.709250  \n",
       "         Hyderabad    27.693417  27.408833  28.018583  28.851250  \n",
       "         Jaipur       26.818417  25.916500  25.884500  26.844125  \n",
       "         Kanpur       26.021750  25.062083  25.445417  26.121250  \n",
       "         Lakhnau      26.021750  25.062083  25.445417  26.121250  \n",
       "         Madras       29.047333  29.063167  29.778417  30.411750  \n",
       "         Nagpur       26.927000  26.004667  26.327917  27.112375  \n",
       "         New Delhi    26.520250  25.629500  25.889417  26.709250  \n",
       "         Pune         25.749167  25.161417  25.296833  25.847625  \n",
       "         Surat        27.681667  27.016583  26.889250  27.437750  "
      ]
     },
     "execution_count": 27,
     "metadata": {},
     "output_type": "execute_result"
    }
   ],
   "source": [
    "# Subset for Egypt to India\n",
    "temp_by_country_city_vs_year.loc[\"Egypt\":\"India\"]"
   ]
  },
  {
   "cell_type": "code",
   "execution_count": 28,
   "id": "6016065b",
   "metadata": {
    "execution": {
     "iopub.execute_input": "2024-10-05T10:56:55.109924Z",
     "iopub.status.busy": "2024-10-05T10:56:55.109353Z",
     "iopub.status.idle": "2024-10-05T10:56:55.143737Z",
     "shell.execute_reply": "2024-10-05T10:56:55.142060Z"
    },
    "papermill": {
     "duration": 0.058989,
     "end_time": "2024-10-05T10:56:55.147369",
     "exception": false,
     "start_time": "2024-10-05T10:56:55.088380",
     "status": "completed"
    },
    "tags": []
   },
   "outputs": [
    {
     "data": {
      "text/html": [
       "<div>\n",
       "<style scoped>\n",
       "    .dataframe tbody tr th:only-of-type {\n",
       "        vertical-align: middle;\n",
       "    }\n",
       "\n",
       "    .dataframe tbody tr th {\n",
       "        vertical-align: top;\n",
       "    }\n",
       "\n",
       "    .dataframe thead th {\n",
       "        text-align: right;\n",
       "    }\n",
       "</style>\n",
       "<table border=\"1\" class=\"dataframe\">\n",
       "  <thead>\n",
       "    <tr style=\"text-align: right;\">\n",
       "      <th></th>\n",
       "      <th>year</th>\n",
       "      <th>2000</th>\n",
       "      <th>2001</th>\n",
       "      <th>2002</th>\n",
       "      <th>2003</th>\n",
       "      <th>2004</th>\n",
       "      <th>2005</th>\n",
       "      <th>2006</th>\n",
       "      <th>2007</th>\n",
       "      <th>2008</th>\n",
       "      <th>2009</th>\n",
       "      <th>2010</th>\n",
       "      <th>2011</th>\n",
       "      <th>2012</th>\n",
       "      <th>2013</th>\n",
       "    </tr>\n",
       "    <tr>\n",
       "      <th>country</th>\n",
       "      <th>city</th>\n",
       "      <th></th>\n",
       "      <th></th>\n",
       "      <th></th>\n",
       "      <th></th>\n",
       "      <th></th>\n",
       "      <th></th>\n",
       "      <th></th>\n",
       "      <th></th>\n",
       "      <th></th>\n",
       "      <th></th>\n",
       "      <th></th>\n",
       "      <th></th>\n",
       "      <th></th>\n",
       "      <th></th>\n",
       "    </tr>\n",
       "  </thead>\n",
       "  <tbody>\n",
       "    <tr>\n",
       "      <th rowspan=\"2\" valign=\"top\">Egypt</th>\n",
       "      <th>Cairo</th>\n",
       "      <td>21.486167</td>\n",
       "      <td>22.330833</td>\n",
       "      <td>22.414083</td>\n",
       "      <td>22.170500</td>\n",
       "      <td>22.081917</td>\n",
       "      <td>22.006500</td>\n",
       "      <td>22.050000</td>\n",
       "      <td>22.361000</td>\n",
       "      <td>22.644500</td>\n",
       "      <td>22.625000</td>\n",
       "      <td>23.718250</td>\n",
       "      <td>21.986917</td>\n",
       "      <td>22.484250</td>\n",
       "      <td>22.907000</td>\n",
       "    </tr>\n",
       "    <tr>\n",
       "      <th>Gizeh</th>\n",
       "      <td>21.486167</td>\n",
       "      <td>22.330833</td>\n",
       "      <td>22.414083</td>\n",
       "      <td>22.170500</td>\n",
       "      <td>22.081917</td>\n",
       "      <td>22.006500</td>\n",
       "      <td>22.050000</td>\n",
       "      <td>22.361000</td>\n",
       "      <td>22.644500</td>\n",
       "      <td>22.625000</td>\n",
       "      <td>23.718250</td>\n",
       "      <td>21.986917</td>\n",
       "      <td>22.484250</td>\n",
       "      <td>22.907000</td>\n",
       "    </tr>\n",
       "    <tr>\n",
       "      <th>Ethiopia</th>\n",
       "      <th>Addis Abeba</th>\n",
       "      <td>18.241250</td>\n",
       "      <td>18.296417</td>\n",
       "      <td>18.469750</td>\n",
       "      <td>18.320917</td>\n",
       "      <td>18.292750</td>\n",
       "      <td>18.312833</td>\n",
       "      <td>18.427083</td>\n",
       "      <td>18.142583</td>\n",
       "      <td>18.165000</td>\n",
       "      <td>18.765333</td>\n",
       "      <td>18.298250</td>\n",
       "      <td>18.606750</td>\n",
       "      <td>18.448583</td>\n",
       "      <td>19.539000</td>\n",
       "    </tr>\n",
       "    <tr>\n",
       "      <th>France</th>\n",
       "      <th>Paris</th>\n",
       "      <td>11.739667</td>\n",
       "      <td>11.371250</td>\n",
       "      <td>11.871333</td>\n",
       "      <td>11.909500</td>\n",
       "      <td>11.338833</td>\n",
       "      <td>11.552917</td>\n",
       "      <td>11.788500</td>\n",
       "      <td>11.750833</td>\n",
       "      <td>11.278250</td>\n",
       "      <td>11.464083</td>\n",
       "      <td>10.409833</td>\n",
       "      <td>12.325750</td>\n",
       "      <td>11.219917</td>\n",
       "      <td>11.011625</td>\n",
       "    </tr>\n",
       "    <tr>\n",
       "      <th>Germany</th>\n",
       "      <th>Berlin</th>\n",
       "      <td>10.963667</td>\n",
       "      <td>9.690250</td>\n",
       "      <td>10.264417</td>\n",
       "      <td>10.065750</td>\n",
       "      <td>9.822583</td>\n",
       "      <td>9.919083</td>\n",
       "      <td>10.545333</td>\n",
       "      <td>10.883167</td>\n",
       "      <td>10.657750</td>\n",
       "      <td>10.062500</td>\n",
       "      <td>8.606833</td>\n",
       "      <td>10.556417</td>\n",
       "      <td>9.964333</td>\n",
       "      <td>10.121500</td>\n",
       "    </tr>\n",
       "    <tr>\n",
       "      <th rowspan=\"5\" valign=\"top\">India</th>\n",
       "      <th>Ahmadabad</th>\n",
       "      <td>27.436000</td>\n",
       "      <td>27.198083</td>\n",
       "      <td>27.719083</td>\n",
       "      <td>27.403833</td>\n",
       "      <td>27.628333</td>\n",
       "      <td>26.828083</td>\n",
       "      <td>27.282833</td>\n",
       "      <td>27.511167</td>\n",
       "      <td>27.048500</td>\n",
       "      <td>28.095833</td>\n",
       "      <td>28.017833</td>\n",
       "      <td>27.290417</td>\n",
       "      <td>27.027250</td>\n",
       "      <td>27.608625</td>\n",
       "    </tr>\n",
       "    <tr>\n",
       "      <th>Bangalore</th>\n",
       "      <td>25.337917</td>\n",
       "      <td>25.528167</td>\n",
       "      <td>25.755333</td>\n",
       "      <td>25.924750</td>\n",
       "      <td>25.252083</td>\n",
       "      <td>25.476500</td>\n",
       "      <td>25.418250</td>\n",
       "      <td>25.464333</td>\n",
       "      <td>25.352583</td>\n",
       "      <td>25.725750</td>\n",
       "      <td>25.705250</td>\n",
       "      <td>25.362083</td>\n",
       "      <td>26.042333</td>\n",
       "      <td>26.610500</td>\n",
       "    </tr>\n",
       "    <tr>\n",
       "      <th>Bombay</th>\n",
       "      <td>27.203667</td>\n",
       "      <td>27.243667</td>\n",
       "      <td>27.628667</td>\n",
       "      <td>27.578417</td>\n",
       "      <td>27.318750</td>\n",
       "      <td>27.035750</td>\n",
       "      <td>27.381500</td>\n",
       "      <td>27.634667</td>\n",
       "      <td>27.177750</td>\n",
       "      <td>27.844500</td>\n",
       "      <td>27.765417</td>\n",
       "      <td>27.384917</td>\n",
       "      <td>27.192500</td>\n",
       "      <td>26.713000</td>\n",
       "    </tr>\n",
       "    <tr>\n",
       "      <th>Calcutta</th>\n",
       "      <td>26.491333</td>\n",
       "      <td>26.515167</td>\n",
       "      <td>26.703917</td>\n",
       "      <td>26.561333</td>\n",
       "      <td>26.634333</td>\n",
       "      <td>26.729167</td>\n",
       "      <td>26.986250</td>\n",
       "      <td>26.584583</td>\n",
       "      <td>26.522333</td>\n",
       "      <td>27.153250</td>\n",
       "      <td>27.288833</td>\n",
       "      <td>26.406917</td>\n",
       "      <td>26.935083</td>\n",
       "      <td>27.369250</td>\n",
       "    </tr>\n",
       "    <tr>\n",
       "      <th>Delhi</th>\n",
       "      <td>26.048333</td>\n",
       "      <td>25.862917</td>\n",
       "      <td>26.634333</td>\n",
       "      <td>25.721083</td>\n",
       "      <td>26.239917</td>\n",
       "      <td>25.716083</td>\n",
       "      <td>26.365917</td>\n",
       "      <td>26.145667</td>\n",
       "      <td>25.675000</td>\n",
       "      <td>26.554250</td>\n",
       "      <td>26.520250</td>\n",
       "      <td>25.629500</td>\n",
       "      <td>25.889417</td>\n",
       "      <td>26.709250</td>\n",
       "    </tr>\n",
       "  </tbody>\n",
       "</table>\n",
       "</div>"
      ],
      "text/plain": [
       "year                       2000       2001       2002       2003       2004  \\\n",
       "country  city                                                                 \n",
       "Egypt    Cairo        21.486167  22.330833  22.414083  22.170500  22.081917   \n",
       "         Gizeh        21.486167  22.330833  22.414083  22.170500  22.081917   \n",
       "Ethiopia Addis Abeba  18.241250  18.296417  18.469750  18.320917  18.292750   \n",
       "France   Paris        11.739667  11.371250  11.871333  11.909500  11.338833   \n",
       "Germany  Berlin       10.963667   9.690250  10.264417  10.065750   9.822583   \n",
       "India    Ahmadabad    27.436000  27.198083  27.719083  27.403833  27.628333   \n",
       "         Bangalore    25.337917  25.528167  25.755333  25.924750  25.252083   \n",
       "         Bombay       27.203667  27.243667  27.628667  27.578417  27.318750   \n",
       "         Calcutta     26.491333  26.515167  26.703917  26.561333  26.634333   \n",
       "         Delhi        26.048333  25.862917  26.634333  25.721083  26.239917   \n",
       "\n",
       "year                       2005       2006       2007       2008       2009  \\\n",
       "country  city                                                                 \n",
       "Egypt    Cairo        22.006500  22.050000  22.361000  22.644500  22.625000   \n",
       "         Gizeh        22.006500  22.050000  22.361000  22.644500  22.625000   \n",
       "Ethiopia Addis Abeba  18.312833  18.427083  18.142583  18.165000  18.765333   \n",
       "France   Paris        11.552917  11.788500  11.750833  11.278250  11.464083   \n",
       "Germany  Berlin        9.919083  10.545333  10.883167  10.657750  10.062500   \n",
       "India    Ahmadabad    26.828083  27.282833  27.511167  27.048500  28.095833   \n",
       "         Bangalore    25.476500  25.418250  25.464333  25.352583  25.725750   \n",
       "         Bombay       27.035750  27.381500  27.634667  27.177750  27.844500   \n",
       "         Calcutta     26.729167  26.986250  26.584583  26.522333  27.153250   \n",
       "         Delhi        25.716083  26.365917  26.145667  25.675000  26.554250   \n",
       "\n",
       "year                       2010       2011       2012       2013  \n",
       "country  city                                                     \n",
       "Egypt    Cairo        23.718250  21.986917  22.484250  22.907000  \n",
       "         Gizeh        23.718250  21.986917  22.484250  22.907000  \n",
       "Ethiopia Addis Abeba  18.298250  18.606750  18.448583  19.539000  \n",
       "France   Paris        10.409833  12.325750  11.219917  11.011625  \n",
       "Germany  Berlin        8.606833  10.556417   9.964333  10.121500  \n",
       "India    Ahmadabad    28.017833  27.290417  27.027250  27.608625  \n",
       "         Bangalore    25.705250  25.362083  26.042333  26.610500  \n",
       "         Bombay       27.765417  27.384917  27.192500  26.713000  \n",
       "         Calcutta     27.288833  26.406917  26.935083  27.369250  \n",
       "         Delhi        26.520250  25.629500  25.889417  26.709250  "
      ]
     },
     "execution_count": 28,
     "metadata": {},
     "output_type": "execute_result"
    }
   ],
   "source": [
    "# Subset for Egypt, Cairo to India, Delhi\n",
    "temp_by_country_city_vs_year.loc[(\"Egypt\",\"Cairo\"):(\"India\",\"Delhi\")]"
   ]
  },
  {
   "cell_type": "code",
   "execution_count": 29,
   "id": "b3864395",
   "metadata": {
    "execution": {
     "iopub.execute_input": "2024-10-05T10:56:55.192057Z",
     "iopub.status.busy": "2024-10-05T10:56:55.191343Z",
     "iopub.status.idle": "2024-10-05T10:56:55.217546Z",
     "shell.execute_reply": "2024-10-05T10:56:55.215679Z"
    },
    "papermill": {
     "duration": 0.051138,
     "end_time": "2024-10-05T10:56:55.221099",
     "exception": false,
     "start_time": "2024-10-05T10:56:55.169961",
     "status": "completed"
    },
    "tags": []
   },
   "outputs": [
    {
     "data": {
      "text/html": [
       "<div>\n",
       "<style scoped>\n",
       "    .dataframe tbody tr th:only-of-type {\n",
       "        vertical-align: middle;\n",
       "    }\n",
       "\n",
       "    .dataframe tbody tr th {\n",
       "        vertical-align: top;\n",
       "    }\n",
       "\n",
       "    .dataframe thead th {\n",
       "        text-align: right;\n",
       "    }\n",
       "</style>\n",
       "<table border=\"1\" class=\"dataframe\">\n",
       "  <thead>\n",
       "    <tr style=\"text-align: right;\">\n",
       "      <th></th>\n",
       "      <th>year</th>\n",
       "      <th>2005</th>\n",
       "      <th>2006</th>\n",
       "      <th>2007</th>\n",
       "      <th>2008</th>\n",
       "      <th>2009</th>\n",
       "      <th>2010</th>\n",
       "    </tr>\n",
       "    <tr>\n",
       "      <th>country</th>\n",
       "      <th>city</th>\n",
       "      <th></th>\n",
       "      <th></th>\n",
       "      <th></th>\n",
       "      <th></th>\n",
       "      <th></th>\n",
       "      <th></th>\n",
       "    </tr>\n",
       "  </thead>\n",
       "  <tbody>\n",
       "    <tr>\n",
       "      <th rowspan=\"2\" valign=\"top\">Egypt</th>\n",
       "      <th>Cairo</th>\n",
       "      <td>22.006500</td>\n",
       "      <td>22.050000</td>\n",
       "      <td>22.361000</td>\n",
       "      <td>22.644500</td>\n",
       "      <td>22.625000</td>\n",
       "      <td>23.718250</td>\n",
       "    </tr>\n",
       "    <tr>\n",
       "      <th>Gizeh</th>\n",
       "      <td>22.006500</td>\n",
       "      <td>22.050000</td>\n",
       "      <td>22.361000</td>\n",
       "      <td>22.644500</td>\n",
       "      <td>22.625000</td>\n",
       "      <td>23.718250</td>\n",
       "    </tr>\n",
       "    <tr>\n",
       "      <th>Ethiopia</th>\n",
       "      <th>Addis Abeba</th>\n",
       "      <td>18.312833</td>\n",
       "      <td>18.427083</td>\n",
       "      <td>18.142583</td>\n",
       "      <td>18.165000</td>\n",
       "      <td>18.765333</td>\n",
       "      <td>18.298250</td>\n",
       "    </tr>\n",
       "    <tr>\n",
       "      <th>France</th>\n",
       "      <th>Paris</th>\n",
       "      <td>11.552917</td>\n",
       "      <td>11.788500</td>\n",
       "      <td>11.750833</td>\n",
       "      <td>11.278250</td>\n",
       "      <td>11.464083</td>\n",
       "      <td>10.409833</td>\n",
       "    </tr>\n",
       "    <tr>\n",
       "      <th>Germany</th>\n",
       "      <th>Berlin</th>\n",
       "      <td>9.919083</td>\n",
       "      <td>10.545333</td>\n",
       "      <td>10.883167</td>\n",
       "      <td>10.657750</td>\n",
       "      <td>10.062500</td>\n",
       "      <td>8.606833</td>\n",
       "    </tr>\n",
       "    <tr>\n",
       "      <th rowspan=\"5\" valign=\"top\">India</th>\n",
       "      <th>Ahmadabad</th>\n",
       "      <td>26.828083</td>\n",
       "      <td>27.282833</td>\n",
       "      <td>27.511167</td>\n",
       "      <td>27.048500</td>\n",
       "      <td>28.095833</td>\n",
       "      <td>28.017833</td>\n",
       "    </tr>\n",
       "    <tr>\n",
       "      <th>Bangalore</th>\n",
       "      <td>25.476500</td>\n",
       "      <td>25.418250</td>\n",
       "      <td>25.464333</td>\n",
       "      <td>25.352583</td>\n",
       "      <td>25.725750</td>\n",
       "      <td>25.705250</td>\n",
       "    </tr>\n",
       "    <tr>\n",
       "      <th>Bombay</th>\n",
       "      <td>27.035750</td>\n",
       "      <td>27.381500</td>\n",
       "      <td>27.634667</td>\n",
       "      <td>27.177750</td>\n",
       "      <td>27.844500</td>\n",
       "      <td>27.765417</td>\n",
       "    </tr>\n",
       "    <tr>\n",
       "      <th>Calcutta</th>\n",
       "      <td>26.729167</td>\n",
       "      <td>26.986250</td>\n",
       "      <td>26.584583</td>\n",
       "      <td>26.522333</td>\n",
       "      <td>27.153250</td>\n",
       "      <td>27.288833</td>\n",
       "    </tr>\n",
       "    <tr>\n",
       "      <th>Delhi</th>\n",
       "      <td>25.716083</td>\n",
       "      <td>26.365917</td>\n",
       "      <td>26.145667</td>\n",
       "      <td>25.675000</td>\n",
       "      <td>26.554250</td>\n",
       "      <td>26.520250</td>\n",
       "    </tr>\n",
       "  </tbody>\n",
       "</table>\n",
       "</div>"
      ],
      "text/plain": [
       "year                       2005       2006       2007       2008       2009  \\\n",
       "country  city                                                                 \n",
       "Egypt    Cairo        22.006500  22.050000  22.361000  22.644500  22.625000   \n",
       "         Gizeh        22.006500  22.050000  22.361000  22.644500  22.625000   \n",
       "Ethiopia Addis Abeba  18.312833  18.427083  18.142583  18.165000  18.765333   \n",
       "France   Paris        11.552917  11.788500  11.750833  11.278250  11.464083   \n",
       "Germany  Berlin        9.919083  10.545333  10.883167  10.657750  10.062500   \n",
       "India    Ahmadabad    26.828083  27.282833  27.511167  27.048500  28.095833   \n",
       "         Bangalore    25.476500  25.418250  25.464333  25.352583  25.725750   \n",
       "         Bombay       27.035750  27.381500  27.634667  27.177750  27.844500   \n",
       "         Calcutta     26.729167  26.986250  26.584583  26.522333  27.153250   \n",
       "         Delhi        25.716083  26.365917  26.145667  25.675000  26.554250   \n",
       "\n",
       "year                       2010  \n",
       "country  city                    \n",
       "Egypt    Cairo        23.718250  \n",
       "         Gizeh        23.718250  \n",
       "Ethiopia Addis Abeba  18.298250  \n",
       "France   Paris        10.409833  \n",
       "Germany  Berlin        8.606833  \n",
       "India    Ahmadabad    28.017833  \n",
       "         Bangalore    25.705250  \n",
       "         Bombay       27.765417  \n",
       "         Calcutta     27.288833  \n",
       "         Delhi        26.520250  "
      ]
     },
     "execution_count": 29,
     "metadata": {},
     "output_type": "execute_result"
    }
   ],
   "source": [
    "# Subset for Egypt, Cairo to India, Delhi, and 2005 to 2010\n",
    "temp_by_country_city_vs_year.loc[(\"Egypt\",\"Cairo\"):(\"India\",\"Delhi\"),2005:2010]"
   ]
  },
  {
   "cell_type": "markdown",
   "id": "0af1e817",
   "metadata": {
    "papermill": {
     "duration": 0.020208,
     "end_time": "2024-10-05T10:56:55.264150",
     "exception": false,
     "start_time": "2024-10-05T10:56:55.243942",
     "status": "completed"
    },
    "tags": []
   },
   "source": [
    "## Calculating on a pivot table"
   ]
  },
  {
   "cell_type": "code",
   "execution_count": 30,
   "id": "016b36a6",
   "metadata": {
    "execution": {
     "iopub.execute_input": "2024-10-05T10:56:55.307702Z",
     "iopub.status.busy": "2024-10-05T10:56:55.306875Z",
     "iopub.status.idle": "2024-10-05T10:56:55.322471Z",
     "shell.execute_reply": "2024-10-05T10:56:55.320788Z"
    },
    "papermill": {
     "duration": 0.042346,
     "end_time": "2024-10-05T10:56:55.326293",
     "exception": false,
     "start_time": "2024-10-05T10:56:55.283947",
     "status": "completed"
    },
    "tags": []
   },
   "outputs": [
    {
     "data": {
      "text/plain": [
       "year\n",
       "2000    19.506243\n",
       "2001    19.679352\n",
       "2002    19.855685\n",
       "2003    19.630197\n",
       "2004    19.672204\n",
       "2005    19.607239\n",
       "2006    19.793993\n",
       "2007    19.854270\n",
       "2008    19.608778\n",
       "2009    19.833752\n",
       "2010    19.911734\n",
       "2011    19.549197\n",
       "2012    19.668239\n",
       "2013    20.312285\n",
       "dtype: float64"
      ]
     },
     "execution_count": 30,
     "metadata": {},
     "output_type": "execute_result"
    }
   ],
   "source": [
    "# Get the worldwide mean temp by year\n",
    "mean_temp_by_year = temp_by_country_city_vs_year.mean()\n",
    "mean_temp_by_year"
   ]
  },
  {
   "cell_type": "code",
   "execution_count": 31,
   "id": "6c67d409",
   "metadata": {
    "execution": {
     "iopub.execute_input": "2024-10-05T10:56:55.370715Z",
     "iopub.status.busy": "2024-10-05T10:56:55.369107Z",
     "iopub.status.idle": "2024-10-05T10:56:55.378889Z",
     "shell.execute_reply": "2024-10-05T10:56:55.377259Z"
    },
    "papermill": {
     "duration": 0.035775,
     "end_time": "2024-10-05T10:56:55.383149",
     "exception": false,
     "start_time": "2024-10-05T10:56:55.347374",
     "status": "completed"
    },
    "tags": []
   },
   "outputs": [
    {
     "name": "stdout",
     "output_type": "stream",
     "text": [
      "year\n",
      "2013    20.312285\n",
      "dtype: float64\n"
     ]
    }
   ],
   "source": [
    "# Filter for the year that had the highest mean temp\n",
    "print(mean_temp_by_year[mean_temp_by_year == mean_temp_by_year.max()])"
   ]
  },
  {
   "cell_type": "code",
   "execution_count": 32,
   "id": "fb3cb998",
   "metadata": {
    "execution": {
     "iopub.execute_input": "2024-10-05T10:56:55.430321Z",
     "iopub.status.busy": "2024-10-05T10:56:55.427995Z",
     "iopub.status.idle": "2024-10-05T10:56:55.451539Z",
     "shell.execute_reply": "2024-10-05T10:56:55.449026Z"
    },
    "papermill": {
     "duration": 0.052378,
     "end_time": "2024-10-05T10:56:55.456948",
     "exception": false,
     "start_time": "2024-10-05T10:56:55.404570",
     "status": "completed"
    },
    "tags": []
   },
   "outputs": [
    {
     "data": {
      "text/plain": [
       "country        city            \n",
       "Afghanistan    Kabul               15.541955\n",
       "Angola         Luanda              24.391616\n",
       "Australia      Melbourne           14.275411\n",
       "               Sydney              17.799250\n",
       "Bangladesh     Dhaka               26.174440\n",
       "                                     ...    \n",
       "United States  Chicago             11.330825\n",
       "               Los Angeles         16.675399\n",
       "               New York            10.911034\n",
       "Vietnam        Ho Chi Minh City    27.922857\n",
       "Zimbabwe       Harare              20.699000\n",
       "Length: 100, dtype: float64"
      ]
     },
     "execution_count": 32,
     "metadata": {},
     "output_type": "execute_result"
    }
   ],
   "source": [
    "# Get the mean temp by city\n",
    "mean_temp_by_city = temp_by_country_city_vs_year.mean(axis=\"columns\")\n",
    "mean_temp_by_city"
   ]
  },
  {
   "cell_type": "code",
   "execution_count": 33,
   "id": "a9e83a28",
   "metadata": {
    "execution": {
     "iopub.execute_input": "2024-10-05T10:56:55.510918Z",
     "iopub.status.busy": "2024-10-05T10:56:55.510285Z",
     "iopub.status.idle": "2024-10-05T10:56:55.523776Z",
     "shell.execute_reply": "2024-10-05T10:56:55.520975Z"
    },
    "papermill": {
     "duration": 0.047875,
     "end_time": "2024-10-05T10:56:55.529141",
     "exception": false,
     "start_time": "2024-10-05T10:56:55.481266",
     "status": "completed"
    },
    "tags": []
   },
   "outputs": [
    {
     "name": "stdout",
     "output_type": "stream",
     "text": [
      "country  city  \n",
      "China    Harbin    4.876551\n",
      "dtype: float64\n"
     ]
    }
   ],
   "source": [
    "# Filter for the city that had the lowest mean temp\n",
    "print(mean_temp_by_city[mean_temp_by_city == mean_temp_by_city.min()])"
   ]
  }
 ],
 "metadata": {
  "kaggle": {
   "accelerator": "none",
   "dataSources": [
    {
     "datasetId": 5528406,
     "sourceId": 9546989,
     "sourceType": "datasetVersion"
    }
   ],
   "dockerImageVersionId": 30786,
   "isGpuEnabled": false,
   "isInternetEnabled": true,
   "language": "python",
   "sourceType": "notebook"
  },
  "kernelspec": {
   "display_name": "Python 3",
   "language": "python",
   "name": "python3"
  },
  "language_info": {
   "codemirror_mode": {
    "name": "ipython",
    "version": 3
   },
   "file_extension": ".py",
   "mimetype": "text/x-python",
   "name": "python",
   "nbconvert_exporter": "python",
   "pygments_lexer": "ipython3",
   "version": "3.10.14"
  },
  "papermill": {
   "default_parameters": {},
   "duration": 8.58157,
   "end_time": "2024-10-05T10:56:56.484188",
   "environment_variables": {},
   "exception": null,
   "input_path": "__notebook__.ipynb",
   "output_path": "__notebook__.ipynb",
   "parameters": {},
   "start_time": "2024-10-05T10:56:47.902618",
   "version": "2.6.0"
  }
 },
 "nbformat": 4,
 "nbformat_minor": 5
}
