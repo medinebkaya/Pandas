{
 "cells": [
  {
   "cell_type": "code",
   "execution_count": 1,
   "id": "687227de",
   "metadata": {
    "_cell_guid": "b1076dfc-b9ad-4769-8c92-a6c4dae69d19",
    "_uuid": "8f2839f25d086af736a60e9eeb907d3b93b6e0e5",
    "execution": {
     "iopub.execute_input": "2024-09-06T17:53:16.212410Z",
     "iopub.status.busy": "2024-09-06T17:53:16.211936Z",
     "iopub.status.idle": "2024-09-06T17:53:16.678183Z",
     "shell.execute_reply": "2024-09-06T17:53:16.676844Z"
    },
    "papermill": {
     "duration": 0.481094,
     "end_time": "2024-09-06T17:53:16.681028",
     "exception": false,
     "start_time": "2024-09-06T17:53:16.199934",
     "status": "completed"
    },
    "tags": []
   },
   "outputs": [
    {
     "name": "stdout",
     "output_type": "stream",
     "text": [
      "/kaggle/input/datacampdatasets/homelessness.csv\n",
      "/kaggle/input/datacampdatasets/hourly_wages.csv\n"
     ]
    }
   ],
   "source": [
    "import numpy as np # linear algebra\n",
    "import pandas as pd # data processing, CSV file I/O (e.g. pd.read_csv)\n",
    "import os\n",
    "for dirname, _, filenames in os.walk('/kaggle/input'):\n",
    "    for filename in filenames:\n",
    "        print(os.path.join(dirname, filename))"
   ]
  },
  {
   "cell_type": "code",
   "execution_count": 2,
   "id": "4f31e216",
   "metadata": {
    "execution": {
     "iopub.execute_input": "2024-09-06T17:53:16.702869Z",
     "iopub.status.busy": "2024-09-06T17:53:16.702322Z",
     "iopub.status.idle": "2024-09-06T17:53:16.739389Z",
     "shell.execute_reply": "2024-09-06T17:53:16.738223Z"
    },
    "papermill": {
     "duration": 0.050989,
     "end_time": "2024-09-06T17:53:16.742067",
     "exception": false,
     "start_time": "2024-09-06T17:53:16.691078",
     "status": "completed"
    },
    "tags": []
   },
   "outputs": [],
   "source": [
    "homelessness=pd.read_csv(\"/kaggle/input/datacampdatasets/homelessness.csv\",index_col=0)"
   ]
  },
  {
   "cell_type": "markdown",
   "id": "a3de7588",
   "metadata": {
    "papermill": {
     "duration": 0.009435,
     "end_time": "2024-09-06T17:53:16.761461",
     "exception": false,
     "start_time": "2024-09-06T17:53:16.752026",
     "status": "completed"
    },
    "tags": []
   },
   "source": [
    "# Inspecting a DataFrame"
   ]
  },
  {
   "cell_type": "markdown",
   "id": "338a517e",
   "metadata": {
    "papermill": {
     "duration": 0.009355,
     "end_time": "2024-09-06T17:53:16.780685",
     "exception": false,
     "start_time": "2024-09-06T17:53:16.771330",
     "status": "completed"
    },
    "tags": []
   },
   "source": [
    "## head()"
   ]
  },
  {
   "cell_type": "code",
   "execution_count": 3,
   "id": "60447f2d",
   "metadata": {
    "execution": {
     "iopub.execute_input": "2024-09-06T17:53:16.802361Z",
     "iopub.status.busy": "2024-09-06T17:53:16.801360Z",
     "iopub.status.idle": "2024-09-06T17:53:16.814479Z",
     "shell.execute_reply": "2024-09-06T17:53:16.813228Z"
    },
    "papermill": {
     "duration": 0.026496,
     "end_time": "2024-09-06T17:53:16.816953",
     "exception": false,
     "start_time": "2024-09-06T17:53:16.790457",
     "status": "completed"
    },
    "tags": []
   },
   "outputs": [
    {
     "name": "stdout",
     "output_type": "stream",
     "text": [
      "               region       state  individuals  family_members  state_pop\n",
      "0  East South Central     Alabama       2570.0           864.0    4887681\n",
      "1             Pacific      Alaska       1434.0           582.0     735139\n",
      "2            Mountain     Arizona       7259.0          2606.0    7158024\n",
      "3  West South Central    Arkansas       2280.0           432.0    3009733\n",
      "4             Pacific  California     109008.0         20964.0   39461588\n"
     ]
    }
   ],
   "source": [
    "# Print the head of the homelessness data\n",
    "print(homelessness.head())"
   ]
  },
  {
   "cell_type": "markdown",
   "id": "d9aae525",
   "metadata": {
    "papermill": {
     "duration": 0.009899,
     "end_time": "2024-09-06T17:53:16.837113",
     "exception": false,
     "start_time": "2024-09-06T17:53:16.827214",
     "status": "completed"
    },
    "tags": []
   },
   "source": [
    "## info()"
   ]
  },
  {
   "cell_type": "code",
   "execution_count": 4,
   "id": "d2764d3e",
   "metadata": {
    "execution": {
     "iopub.execute_input": "2024-09-06T17:53:16.859083Z",
     "iopub.status.busy": "2024-09-06T17:53:16.858673Z",
     "iopub.status.idle": "2024-09-06T17:53:16.881146Z",
     "shell.execute_reply": "2024-09-06T17:53:16.879920Z"
    },
    "papermill": {
     "duration": 0.036617,
     "end_time": "2024-09-06T17:53:16.883752",
     "exception": false,
     "start_time": "2024-09-06T17:53:16.847135",
     "status": "completed"
    },
    "tags": []
   },
   "outputs": [
    {
     "name": "stdout",
     "output_type": "stream",
     "text": [
      "<class 'pandas.core.frame.DataFrame'>\n",
      "Index: 51 entries, 0 to 50\n",
      "Data columns (total 5 columns):\n",
      " #   Column          Non-Null Count  Dtype  \n",
      "---  ------          --------------  -----  \n",
      " 0   region          51 non-null     object \n",
      " 1   state           51 non-null     object \n",
      " 2   individuals     51 non-null     float64\n",
      " 3   family_members  51 non-null     float64\n",
      " 4   state_pop       51 non-null     int64  \n",
      "dtypes: float64(2), int64(1), object(2)\n",
      "memory usage: 2.4+ KB\n",
      "None\n"
     ]
    }
   ],
   "source": [
    "# Print information about homelessness\n",
    "print(homelessness.info())"
   ]
  },
  {
   "cell_type": "markdown",
   "id": "8c2a95d0",
   "metadata": {
    "papermill": {
     "duration": 0.009749,
     "end_time": "2024-09-06T17:53:16.904176",
     "exception": false,
     "start_time": "2024-09-06T17:53:16.894427",
     "status": "completed"
    },
    "tags": []
   },
   "source": [
    "## shape"
   ]
  },
  {
   "cell_type": "code",
   "execution_count": 5,
   "id": "00b371c3",
   "metadata": {
    "execution": {
     "iopub.execute_input": "2024-09-06T17:53:16.925643Z",
     "iopub.status.busy": "2024-09-06T17:53:16.925199Z",
     "iopub.status.idle": "2024-09-06T17:53:16.930636Z",
     "shell.execute_reply": "2024-09-06T17:53:16.929571Z"
    },
    "papermill": {
     "duration": 0.019008,
     "end_time": "2024-09-06T17:53:16.933132",
     "exception": false,
     "start_time": "2024-09-06T17:53:16.914124",
     "status": "completed"
    },
    "tags": []
   },
   "outputs": [
    {
     "name": "stdout",
     "output_type": "stream",
     "text": [
      "(51, 5)\n"
     ]
    }
   ],
   "source": [
    "# Print the shape of homelessness\n",
    "print(homelessness.shape)"
   ]
  },
  {
   "cell_type": "markdown",
   "id": "67b821ac",
   "metadata": {
    "papermill": {
     "duration": 0.009729,
     "end_time": "2024-09-06T17:53:16.952899",
     "exception": false,
     "start_time": "2024-09-06T17:53:16.943170",
     "status": "completed"
    },
    "tags": []
   },
   "source": [
    "## describe()"
   ]
  },
  {
   "cell_type": "code",
   "execution_count": 6,
   "id": "1318648d",
   "metadata": {
    "execution": {
     "iopub.execute_input": "2024-09-06T17:53:16.974616Z",
     "iopub.status.busy": "2024-09-06T17:53:16.974170Z",
     "iopub.status.idle": "2024-09-06T17:53:16.993118Z",
     "shell.execute_reply": "2024-09-06T17:53:16.992015Z"
    },
    "papermill": {
     "duration": 0.032787,
     "end_time": "2024-09-06T17:53:16.995615",
     "exception": false,
     "start_time": "2024-09-06T17:53:16.962828",
     "status": "completed"
    },
    "tags": []
   },
   "outputs": [
    {
     "name": "stdout",
     "output_type": "stream",
     "text": [
      "         individuals  family_members     state_pop\n",
      "count      51.000000       51.000000  5.100000e+01\n",
      "mean     7225.784314     3504.882353  6.405637e+06\n",
      "std     15991.025083     7805.411811  7.327258e+06\n",
      "min       434.000000       75.000000  5.776010e+05\n",
      "25%      1446.500000      592.000000  1.777414e+06\n",
      "50%      3082.000000     1482.000000  4.461153e+06\n",
      "75%      6781.500000     3196.000000  7.340946e+06\n",
      "max    109008.000000    52070.000000  3.946159e+07\n"
     ]
    }
   ],
   "source": [
    "# Print a description of homelessness\n",
    "print(homelessness.describe())"
   ]
  },
  {
   "cell_type": "markdown",
   "id": "71b04c65",
   "metadata": {
    "papermill": {
     "duration": 0.009921,
     "end_time": "2024-09-06T17:53:17.015997",
     "exception": false,
     "start_time": "2024-09-06T17:53:17.006076",
     "status": "completed"
    },
    "tags": []
   },
   "source": [
    "# Parts of a DataFrame"
   ]
  },
  {
   "cell_type": "code",
   "execution_count": 7,
   "id": "c1f694e4",
   "metadata": {
    "execution": {
     "iopub.execute_input": "2024-09-06T17:53:17.038356Z",
     "iopub.status.busy": "2024-09-06T17:53:17.037886Z",
     "iopub.status.idle": "2024-09-06T17:53:17.044996Z",
     "shell.execute_reply": "2024-09-06T17:53:17.043885Z"
    },
    "papermill": {
     "duration": 0.021875,
     "end_time": "2024-09-06T17:53:17.048006",
     "exception": false,
     "start_time": "2024-09-06T17:53:17.026131",
     "status": "completed"
    },
    "tags": []
   },
   "outputs": [
    {
     "name": "stdout",
     "output_type": "stream",
     "text": [
      "[['East South Central' 'Alabama' 2570.0 864.0 4887681]\n",
      " ['Pacific' 'Alaska' 1434.0 582.0 735139]\n",
      " ['Mountain' 'Arizona' 7259.0 2606.0 7158024]\n",
      " ['West South Central' 'Arkansas' 2280.0 432.0 3009733]\n",
      " ['Pacific' 'California' 109008.0 20964.0 39461588]\n",
      " ['Mountain' 'Colorado' 7607.0 3250.0 5691287]\n",
      " ['New England' 'Connecticut' 2280.0 1696.0 3571520]\n",
      " ['South Atlantic' 'Delaware' 708.0 374.0 965479]\n",
      " ['South Atlantic' 'District of Columbia' 3770.0 3134.0 701547]\n",
      " ['South Atlantic' 'Florida' 21443.0 9587.0 21244317]\n",
      " ['South Atlantic' 'Georgia' 6943.0 2556.0 10511131]\n",
      " ['Pacific' 'Hawaii' 4131.0 2399.0 1420593]\n",
      " ['Mountain' 'Idaho' 1297.0 715.0 1750536]\n",
      " ['East North Central' 'Illinois' 6752.0 3891.0 12723071]\n",
      " ['East North Central' 'Indiana' 3776.0 1482.0 6695497]\n",
      " ['West North Central' 'Iowa' 1711.0 1038.0 3148618]\n",
      " ['West North Central' 'Kansas' 1443.0 773.0 2911359]\n",
      " ['East South Central' 'Kentucky' 2735.0 953.0 4461153]\n",
      " ['West South Central' 'Louisiana' 2540.0 519.0 4659690]\n",
      " ['New England' 'Maine' 1450.0 1066.0 1339057]\n",
      " ['South Atlantic' 'Maryland' 4914.0 2230.0 6035802]\n",
      " ['New England' 'Massachusetts' 6811.0 13257.0 6882635]\n",
      " ['East North Central' 'Michigan' 5209.0 3142.0 9984072]\n",
      " ['West North Central' 'Minnesota' 3993.0 3250.0 5606249]\n",
      " ['East South Central' 'Mississippi' 1024.0 328.0 2981020]\n",
      " ['West North Central' 'Missouri' 3776.0 2107.0 6121623]\n",
      " ['Mountain' 'Montana' 983.0 422.0 1060665]\n",
      " ['West North Central' 'Nebraska' 1745.0 676.0 1925614]\n",
      " ['Mountain' 'Nevada' 7058.0 486.0 3027341]\n",
      " ['New England' 'New Hampshire' 835.0 615.0 1353465]\n",
      " ['Mid-Atlantic' 'New Jersey' 6048.0 3350.0 8886025]\n",
      " ['Mountain' 'New Mexico' 1949.0 602.0 2092741]\n",
      " ['Mid-Atlantic' 'New York' 39827.0 52070.0 19530351]\n",
      " ['South Atlantic' 'North Carolina' 6451.0 2817.0 10381615]\n",
      " ['West North Central' 'North Dakota' 467.0 75.0 758080]\n",
      " ['East North Central' 'Ohio' 6929.0 3320.0 11676341]\n",
      " ['West South Central' 'Oklahoma' 2823.0 1048.0 3940235]\n",
      " ['Pacific' 'Oregon' 11139.0 3337.0 4181886]\n",
      " ['Mid-Atlantic' 'Pennsylvania' 8163.0 5349.0 12800922]\n",
      " ['New England' 'Rhode Island' 747.0 354.0 1058287]\n",
      " ['South Atlantic' 'South Carolina' 3082.0 851.0 5084156]\n",
      " ['West North Central' 'South Dakota' 836.0 323.0 878698]\n",
      " ['East South Central' 'Tennessee' 6139.0 1744.0 6771631]\n",
      " ['West South Central' 'Texas' 19199.0 6111.0 28628666]\n",
      " ['Mountain' 'Utah' 1904.0 972.0 3153550]\n",
      " ['New England' 'Vermont' 780.0 511.0 624358]\n",
      " ['South Atlantic' 'Virginia' 3928.0 2047.0 8501286]\n",
      " ['Pacific' 'Washington' 16424.0 5880.0 7523869]\n",
      " ['South Atlantic' 'West Virginia' 1021.0 222.0 1804291]\n",
      " ['East North Central' 'Wisconsin' 2740.0 2167.0 5807406]\n",
      " ['Mountain' 'Wyoming' 434.0 205.0 577601]]\n"
     ]
    }
   ],
   "source": [
    "# Print the values of homelessness\n",
    "print(homelessness.values)"
   ]
  },
  {
   "cell_type": "code",
   "execution_count": 8,
   "id": "3b348caf",
   "metadata": {
    "execution": {
     "iopub.execute_input": "2024-09-06T17:53:17.070652Z",
     "iopub.status.busy": "2024-09-06T17:53:17.070188Z",
     "iopub.status.idle": "2024-09-06T17:53:17.076328Z",
     "shell.execute_reply": "2024-09-06T17:53:17.075231Z"
    },
    "papermill": {
     "duration": 0.020629,
     "end_time": "2024-09-06T17:53:17.079062",
     "exception": false,
     "start_time": "2024-09-06T17:53:17.058433",
     "status": "completed"
    },
    "tags": []
   },
   "outputs": [
    {
     "name": "stdout",
     "output_type": "stream",
     "text": [
      "Index(['region', 'state', 'individuals', 'family_members', 'state_pop'], dtype='object')\n"
     ]
    }
   ],
   "source": [
    "# Print the column index of homelessness\n",
    "print(homelessness.columns)"
   ]
  },
  {
   "cell_type": "code",
   "execution_count": 9,
   "id": "7d706f4c",
   "metadata": {
    "execution": {
     "iopub.execute_input": "2024-09-06T17:53:17.102041Z",
     "iopub.status.busy": "2024-09-06T17:53:17.101641Z",
     "iopub.status.idle": "2024-09-06T17:53:17.107426Z",
     "shell.execute_reply": "2024-09-06T17:53:17.106439Z"
    },
    "papermill": {
     "duration": 0.021032,
     "end_time": "2024-09-06T17:53:17.110680",
     "exception": false,
     "start_time": "2024-09-06T17:53:17.089648",
     "status": "completed"
    },
    "tags": []
   },
   "outputs": [
    {
     "name": "stdout",
     "output_type": "stream",
     "text": [
      "Index([ 0,  1,  2,  3,  4,  5,  6,  7,  8,  9, 10, 11, 12, 13, 14, 15, 16, 17,\n",
      "       18, 19, 20, 21, 22, 23, 24, 25, 26, 27, 28, 29, 30, 31, 32, 33, 34, 35,\n",
      "       36, 37, 38, 39, 40, 41, 42, 43, 44, 45, 46, 47, 48, 49, 50],\n",
      "      dtype='int64')\n"
     ]
    }
   ],
   "source": [
    "# Print the row index of homelessness\n",
    "print(homelessness.index)"
   ]
  },
  {
   "cell_type": "markdown",
   "id": "cca963d0",
   "metadata": {
    "papermill": {
     "duration": 0.010426,
     "end_time": "2024-09-06T17:53:17.131638",
     "exception": false,
     "start_time": "2024-09-06T17:53:17.121212",
     "status": "completed"
    },
    "tags": []
   },
   "source": [
    "# Sorting Rows"
   ]
  },
  {
   "cell_type": "code",
   "execution_count": 10,
   "id": "bfdd504c",
   "metadata": {
    "execution": {
     "iopub.execute_input": "2024-09-06T17:53:17.155140Z",
     "iopub.status.busy": "2024-09-06T17:53:17.154427Z",
     "iopub.status.idle": "2024-09-06T17:53:17.166601Z",
     "shell.execute_reply": "2024-09-06T17:53:17.165259Z"
    },
    "papermill": {
     "duration": 0.027118,
     "end_time": "2024-09-06T17:53:17.169344",
     "exception": false,
     "start_time": "2024-09-06T17:53:17.142226",
     "status": "completed"
    },
    "tags": []
   },
   "outputs": [
    {
     "name": "stdout",
     "output_type": "stream",
     "text": [
      "                region         state  individuals  family_members  state_pop\n",
      "50            Mountain       Wyoming        434.0           205.0     577601\n",
      "34  West North Central  North Dakota        467.0            75.0     758080\n",
      "7       South Atlantic      Delaware        708.0           374.0     965479\n",
      "39         New England  Rhode Island        747.0           354.0    1058287\n",
      "45         New England       Vermont        780.0           511.0     624358\n"
     ]
    }
   ],
   "source": [
    "# Sort homelessness by individuals\n",
    "homelessness_ind = homelessness.sort_values([\"individuals\"])\n",
    "\n",
    "# Print the top few rows\n",
    "print(homelessness_ind.head())"
   ]
  },
  {
   "cell_type": "code",
   "execution_count": 11,
   "id": "57f7b2f9",
   "metadata": {
    "execution": {
     "iopub.execute_input": "2024-09-06T17:53:17.193184Z",
     "iopub.status.busy": "2024-09-06T17:53:17.192782Z",
     "iopub.status.idle": "2024-09-06T17:53:17.202593Z",
     "shell.execute_reply": "2024-09-06T17:53:17.201450Z"
    },
    "papermill": {
     "duration": 0.025408,
     "end_time": "2024-09-06T17:53:17.205918",
     "exception": false,
     "start_time": "2024-09-06T17:53:17.180510",
     "status": "completed"
    },
    "tags": []
   },
   "outputs": [
    {
     "name": "stdout",
     "output_type": "stream",
     "text": [
      "                region          state  individuals  family_members  state_pop\n",
      "32        Mid-Atlantic       New York      39827.0         52070.0   19530351\n",
      "4              Pacific     California     109008.0         20964.0   39461588\n",
      "21         New England  Massachusetts       6811.0         13257.0    6882635\n",
      "9       South Atlantic        Florida      21443.0          9587.0   21244317\n",
      "43  West South Central          Texas      19199.0          6111.0   28628666\n"
     ]
    }
   ],
   "source": [
    "# Sort homelessness by descending family members\n",
    "homelessness_fam = homelessness.sort_values([\"family_members\"], ascending=False)\n",
    "\n",
    "print(homelessness_fam.head())"
   ]
  },
  {
   "cell_type": "code",
   "execution_count": 12,
   "id": "c173ec6e",
   "metadata": {
    "execution": {
     "iopub.execute_input": "2024-09-06T17:53:17.229555Z",
     "iopub.status.busy": "2024-09-06T17:53:17.229115Z",
     "iopub.status.idle": "2024-09-06T17:53:17.240122Z",
     "shell.execute_reply": "2024-09-06T17:53:17.239021Z"
    },
    "papermill": {
     "duration": 0.026474,
     "end_time": "2024-09-06T17:53:17.243391",
     "exception": false,
     "start_time": "2024-09-06T17:53:17.216917",
     "status": "completed"
    },
    "tags": []
   },
   "outputs": [
    {
     "name": "stdout",
     "output_type": "stream",
     "text": [
      "                region      state  individuals  family_members  state_pop\n",
      "13  East North Central   Illinois       6752.0          3891.0   12723071\n",
      "35  East North Central       Ohio       6929.0          3320.0   11676341\n",
      "22  East North Central   Michigan       5209.0          3142.0    9984072\n",
      "49  East North Central  Wisconsin       2740.0          2167.0    5807406\n",
      "14  East North Central    Indiana       3776.0          1482.0    6695497\n"
     ]
    }
   ],
   "source": [
    "# Sort homelessness by region, then descending family members\n",
    "homelessness_reg_fam = homelessness.sort_values([\"region\",\"family_members\"],ascending=[True, False])\n",
    "\n",
    "# Print the top few rows\n",
    "print(homelessness_reg_fam.head())"
   ]
  },
  {
   "cell_type": "markdown",
   "id": "b124c252",
   "metadata": {
    "papermill": {
     "duration": 0.010499,
     "end_time": "2024-09-06T17:53:17.264730",
     "exception": false,
     "start_time": "2024-09-06T17:53:17.254231",
     "status": "completed"
    },
    "tags": []
   },
   "source": [
    "# Subsetting Columns"
   ]
  },
  {
   "cell_type": "code",
   "execution_count": 13,
   "id": "ffb6d006",
   "metadata": {
    "execution": {
     "iopub.execute_input": "2024-09-06T17:53:17.288227Z",
     "iopub.status.busy": "2024-09-06T17:53:17.287834Z",
     "iopub.status.idle": "2024-09-06T17:53:17.295316Z",
     "shell.execute_reply": "2024-09-06T17:53:17.294078Z"
    },
    "papermill": {
     "duration": 0.02239,
     "end_time": "2024-09-06T17:53:17.298021",
     "exception": false,
     "start_time": "2024-09-06T17:53:17.275631",
     "status": "completed"
    },
    "tags": []
   },
   "outputs": [
    {
     "name": "stdout",
     "output_type": "stream",
     "text": [
      "0      2570.0\n",
      "1      1434.0\n",
      "2      7259.0\n",
      "3      2280.0\n",
      "4    109008.0\n",
      "Name: individuals, dtype: float64\n"
     ]
    }
   ],
   "source": [
    "# Select the individuals column\n",
    "individuals = homelessness[\"individuals\"]\n",
    "\n",
    "print(individuals.head())"
   ]
  },
  {
   "cell_type": "code",
   "execution_count": 14,
   "id": "3a7dab91",
   "metadata": {
    "execution": {
     "iopub.execute_input": "2024-09-06T17:53:17.323264Z",
     "iopub.status.busy": "2024-09-06T17:53:17.322314Z",
     "iopub.status.idle": "2024-09-06T17:53:17.333056Z",
     "shell.execute_reply": "2024-09-06T17:53:17.331914Z"
    },
    "papermill": {
     "duration": 0.026351,
     "end_time": "2024-09-06T17:53:17.335729",
     "exception": false,
     "start_time": "2024-09-06T17:53:17.309378",
     "status": "completed"
    },
    "tags": []
   },
   "outputs": [
    {
     "name": "stdout",
     "output_type": "stream",
     "text": [
      "        state  family_members\n",
      "0     Alabama           864.0\n",
      "1      Alaska           582.0\n",
      "2     Arizona          2606.0\n",
      "3    Arkansas           432.0\n",
      "4  California         20964.0\n"
     ]
    }
   ],
   "source": [
    "# Select the state and family_members columns\n",
    "state_fam = homelessness[[\"state\",\"family_members\"]]\n",
    "\n",
    "print(state_fam.head())"
   ]
  },
  {
   "cell_type": "code",
   "execution_count": 15,
   "id": "5198aa68",
   "metadata": {
    "execution": {
     "iopub.execute_input": "2024-09-06T17:53:17.359833Z",
     "iopub.status.busy": "2024-09-06T17:53:17.359433Z",
     "iopub.status.idle": "2024-09-06T17:53:17.368960Z",
     "shell.execute_reply": "2024-09-06T17:53:17.367818Z"
    },
    "papermill": {
     "duration": 0.024665,
     "end_time": "2024-09-06T17:53:17.371646",
     "exception": false,
     "start_time": "2024-09-06T17:53:17.346981",
     "status": "completed"
    },
    "tags": []
   },
   "outputs": [
    {
     "name": "stdout",
     "output_type": "stream",
     "text": [
      "   individuals       state\n",
      "0       2570.0     Alabama\n",
      "1       1434.0      Alaska\n",
      "2       7259.0     Arizona\n",
      "3       2280.0    Arkansas\n",
      "4     109008.0  California\n"
     ]
    }
   ],
   "source": [
    "# Select only the individuals and state columns, in that order\n",
    "ind_state = homelessness[[\"individuals\",\"state\"]]\n",
    "\n",
    "print(ind_state.head())"
   ]
  },
  {
   "cell_type": "markdown",
   "id": "fd80f1dd",
   "metadata": {
    "papermill": {
     "duration": 0.010888,
     "end_time": "2024-09-06T17:53:17.393885",
     "exception": false,
     "start_time": "2024-09-06T17:53:17.382997",
     "status": "completed"
    },
    "tags": []
   },
   "source": [
    "# Subsetting Rows"
   ]
  },
  {
   "cell_type": "code",
   "execution_count": 16,
   "id": "be81ed11",
   "metadata": {
    "execution": {
     "iopub.execute_input": "2024-09-06T17:53:17.418315Z",
     "iopub.status.busy": "2024-09-06T17:53:17.417872Z",
     "iopub.status.idle": "2024-09-06T17:53:17.427873Z",
     "shell.execute_reply": "2024-09-06T17:53:17.426792Z"
    },
    "papermill": {
     "duration": 0.025666,
     "end_time": "2024-09-06T17:53:17.430788",
     "exception": false,
     "start_time": "2024-09-06T17:53:17.405122",
     "status": "completed"
    },
    "tags": []
   },
   "outputs": [
    {
     "name": "stdout",
     "output_type": "stream",
     "text": [
      "                region       state  individuals  family_members  state_pop\n",
      "4              Pacific  California     109008.0         20964.0   39461588\n",
      "9       South Atlantic     Florida      21443.0          9587.0   21244317\n",
      "32        Mid-Atlantic    New York      39827.0         52070.0   19530351\n",
      "37             Pacific      Oregon      11139.0          3337.0    4181886\n",
      "43  West South Central       Texas      19199.0          6111.0   28628666\n",
      "47             Pacific  Washington      16424.0          5880.0    7523869\n"
     ]
    }
   ],
   "source": [
    "# Filter for rows where individuals is greater than 10000\n",
    "ind_gt_10k = homelessness[homelessness[\"individuals\"]>10000]\n",
    "\n",
    "# See the result\n",
    "print(ind_gt_10k)"
   ]
  },
  {
   "cell_type": "code",
   "execution_count": 17,
   "id": "5384750a",
   "metadata": {
    "execution": {
     "iopub.execute_input": "2024-09-06T17:53:17.456083Z",
     "iopub.status.busy": "2024-09-06T17:53:17.455276Z",
     "iopub.status.idle": "2024-09-06T17:53:17.466149Z",
     "shell.execute_reply": "2024-09-06T17:53:17.464946Z"
    },
    "papermill": {
     "duration": 0.026543,
     "end_time": "2024-09-06T17:53:17.468743",
     "exception": false,
     "start_time": "2024-09-06T17:53:17.442200",
     "status": "completed"
    },
    "tags": []
   },
   "outputs": [
    {
     "name": "stdout",
     "output_type": "stream",
     "text": [
      "      region       state  individuals  family_members  state_pop\n",
      "2   Mountain     Arizona       7259.0          2606.0    7158024\n",
      "5   Mountain    Colorado       7607.0          3250.0    5691287\n",
      "12  Mountain       Idaho       1297.0           715.0    1750536\n",
      "26  Mountain     Montana        983.0           422.0    1060665\n",
      "28  Mountain      Nevada       7058.0           486.0    3027341\n",
      "31  Mountain  New Mexico       1949.0           602.0    2092741\n",
      "44  Mountain        Utah       1904.0           972.0    3153550\n",
      "50  Mountain     Wyoming        434.0           205.0     577601\n"
     ]
    }
   ],
   "source": [
    "# Filter for rows where region is Mountain\n",
    "mountain_reg = homelessness[homelessness[\"region\"]==\"Mountain\"]\n",
    "\n",
    "# See the result\n",
    "print(mountain_reg)"
   ]
  },
  {
   "cell_type": "code",
   "execution_count": 18,
   "id": "4bba10b8",
   "metadata": {
    "execution": {
     "iopub.execute_input": "2024-09-06T17:53:17.494328Z",
     "iopub.status.busy": "2024-09-06T17:53:17.493357Z",
     "iopub.status.idle": "2024-09-06T17:53:17.503585Z",
     "shell.execute_reply": "2024-09-06T17:53:17.502444Z"
    },
    "papermill": {
     "duration": 0.025885,
     "end_time": "2024-09-06T17:53:17.506330",
     "exception": false,
     "start_time": "2024-09-06T17:53:17.480445",
     "status": "completed"
    },
    "tags": []
   },
   "outputs": [
    {
     "name": "stdout",
     "output_type": "stream",
     "text": [
      "    region   state  individuals  family_members  state_pop\n",
      "1  Pacific  Alaska       1434.0           582.0     735139\n"
     ]
    }
   ],
   "source": [
    "# Filter for rows where family_members is less than 1000 \n",
    "# and region is Pacific\n",
    "fam_lt_1k_pac = homelessness[(homelessness[\"family_members\"]<1000) & (homelessness[\"region\"]==\"Pacific\")]\n",
    "\n",
    "# See the result\n",
    "print(fam_lt_1k_pac)"
   ]
  },
  {
   "cell_type": "markdown",
   "id": "b9953b77",
   "metadata": {
    "papermill": {
     "duration": 0.011384,
     "end_time": "2024-09-06T17:53:17.530445",
     "exception": false,
     "start_time": "2024-09-06T17:53:17.519061",
     "status": "completed"
    },
    "tags": []
   },
   "source": [
    "# Subsetting Rows by Categorical Variables"
   ]
  },
  {
   "cell_type": "code",
   "execution_count": 19,
   "id": "7076e7ba",
   "metadata": {
    "execution": {
     "iopub.execute_input": "2024-09-06T17:53:17.556140Z",
     "iopub.status.busy": "2024-09-06T17:53:17.554963Z",
     "iopub.status.idle": "2024-09-06T17:53:17.567429Z",
     "shell.execute_reply": "2024-09-06T17:53:17.566292Z"
    },
    "papermill": {
     "duration": 0.027924,
     "end_time": "2024-09-06T17:53:17.570042",
     "exception": false,
     "start_time": "2024-09-06T17:53:17.542118",
     "status": "completed"
    },
    "tags": []
   },
   "outputs": [
    {
     "name": "stdout",
     "output_type": "stream",
     "text": [
      "      region       state  individuals  family_members  state_pop\n",
      "2   Mountain     Arizona       7259.0          2606.0    7158024\n",
      "4    Pacific  California     109008.0         20964.0   39461588\n",
      "28  Mountain      Nevada       7058.0           486.0    3027341\n",
      "44  Mountain        Utah       1904.0           972.0    3153550\n"
     ]
    }
   ],
   "source": [
    "# The Mojave Desert states\n",
    "canu = [\"California\", \"Arizona\", \"Nevada\", \"Utah\"]\n",
    "\n",
    "# Filter for rows in the Mojave Desert states\n",
    "mojave_homelessness =homelessness[ homelessness[\"state\"].isin(canu)]\n",
    "\n",
    "# See the result\n",
    "print(mojave_homelessness)"
   ]
  },
  {
   "cell_type": "markdown",
   "id": "d986d0bc",
   "metadata": {
    "papermill": {
     "duration": 0.011111,
     "end_time": "2024-09-06T17:53:17.592894",
     "exception": false,
     "start_time": "2024-09-06T17:53:17.581783",
     "status": "completed"
    },
    "tags": []
   },
   "source": [
    "# Adding New Columns"
   ]
  },
  {
   "cell_type": "code",
   "execution_count": 20,
   "id": "46730cd2",
   "metadata": {
    "execution": {
     "iopub.execute_input": "2024-09-06T17:53:17.619301Z",
     "iopub.status.busy": "2024-09-06T17:53:17.618323Z",
     "iopub.status.idle": "2024-09-06T17:53:17.631363Z",
     "shell.execute_reply": "2024-09-06T17:53:17.630295Z"
    },
    "papermill": {
     "duration": 0.029039,
     "end_time": "2024-09-06T17:53:17.633913",
     "exception": false,
     "start_time": "2024-09-06T17:53:17.604874",
     "status": "completed"
    },
    "tags": []
   },
   "outputs": [
    {
     "name": "stdout",
     "output_type": "stream",
     "text": [
      "               region       state  individuals  family_members  state_pop  \\\n",
      "0  East South Central     Alabama       2570.0           864.0    4887681   \n",
      "1             Pacific      Alaska       1434.0           582.0     735139   \n",
      "2            Mountain     Arizona       7259.0          2606.0    7158024   \n",
      "3  West South Central    Arkansas       2280.0           432.0    3009733   \n",
      "4             Pacific  California     109008.0         20964.0   39461588   \n",
      "\n",
      "      total  p_homeless  \n",
      "0    3434.0    0.000703  \n",
      "1    2016.0    0.002742  \n",
      "2    9865.0    0.001378  \n",
      "3    2712.0    0.000901  \n",
      "4  129972.0    0.003294  \n"
     ]
    }
   ],
   "source": [
    "# Add total col as sum of individuals and family_members\n",
    "homelessness[\"total\"]=homelessness[\"individuals\"]+homelessness[\"family_members\"]\n",
    "# Add p_homeless col as proportion of total homeless population to the state population\n",
    "homelessness[\"p_homeless\"]=homelessness[\"total\"]/homelessness[\"state_pop\"]\n",
    "\n",
    "# See the result\n",
    "print(homelessness.head())"
   ]
  },
  {
   "cell_type": "markdown",
   "id": "7b6044b3",
   "metadata": {
    "papermill": {
     "duration": 0.011236,
     "end_time": "2024-09-06T17:53:17.656860",
     "exception": false,
     "start_time": "2024-09-06T17:53:17.645624",
     "status": "completed"
    },
    "tags": []
   },
   "source": [
    "# Combo-attack!"
   ]
  },
  {
   "cell_type": "code",
   "execution_count": 21,
   "id": "c6f30635",
   "metadata": {
    "execution": {
     "iopub.execute_input": "2024-09-06T17:53:17.683492Z",
     "iopub.status.busy": "2024-09-06T17:53:17.682697Z",
     "iopub.status.idle": "2024-09-06T17:53:17.695638Z",
     "shell.execute_reply": "2024-09-06T17:53:17.694260Z"
    },
    "papermill": {
     "duration": 0.029056,
     "end_time": "2024-09-06T17:53:17.698041",
     "exception": false,
     "start_time": "2024-09-06T17:53:17.668985",
     "status": "completed"
    },
    "tags": []
   },
   "outputs": [
    {
     "name": "stdout",
     "output_type": "stream",
     "text": [
      "                   state  indiv_per_10k\n",
      "8   District of Columbia      53.738381\n",
      "11                Hawaii      29.079406\n",
      "4             California      27.623825\n",
      "37                Oregon      26.636307\n",
      "28                Nevada      23.314189\n",
      "47            Washington      21.829195\n",
      "32              New York      20.392363\n"
     ]
    }
   ],
   "source": [
    "# Create indiv_per_10k col as homeless individuals per 10k state pop\n",
    "homelessness[\"indiv_per_10k\"] = 10000 * homelessness[\"individuals\"] / homelessness[\"state_pop\"]\n",
    "\n",
    "# Subset rows for indiv_per_10k greater than 20\n",
    "high_homelessness = homelessness[homelessness[\"indiv_per_10k\"]>20]\n",
    "\n",
    "# Sort high_homelessness by descending indiv_per_10k\n",
    "high_homelessness_srt = high_homelessness.sort_values(\"indiv_per_10k\", ascending=False)\n",
    "\n",
    "# From high_homelessness_srt, select the state and indiv_per_10k cols\n",
    "result = high_homelessness_srt[[\"state\",\"indiv_per_10k\"]]\n",
    "\n",
    "# See the result\n",
    "print(result)"
   ]
  }
 ],
 "metadata": {
  "kaggle": {
   "accelerator": "none",
   "dataSources": [
    {
     "datasetId": 5528406,
     "sourceId": 9334975,
     "sourceType": "datasetVersion"
    }
   ],
   "dockerImageVersionId": 30761,
   "isGpuEnabled": false,
   "isInternetEnabled": true,
   "language": "python",
   "sourceType": "notebook"
  },
  "kernelspec": {
   "display_name": "Python 3",
   "language": "python",
   "name": "python3"
  },
  "language_info": {
   "codemirror_mode": {
    "name": "ipython",
    "version": 3
   },
   "file_extension": ".py",
   "mimetype": "text/x-python",
   "name": "python",
   "nbconvert_exporter": "python",
   "pygments_lexer": "ipython3",
   "version": "3.10.14"
  },
  "papermill": {
   "default_parameters": {},
   "duration": 5.034855,
   "end_time": "2024-09-06T17:53:18.230979",
   "environment_variables": {},
   "exception": null,
   "input_path": "__notebook__.ipynb",
   "output_path": "__notebook__.ipynb",
   "parameters": {},
   "start_time": "2024-09-06T17:53:13.196124",
   "version": "2.6.0"
  }
 },
 "nbformat": 4,
 "nbformat_minor": 5
}
